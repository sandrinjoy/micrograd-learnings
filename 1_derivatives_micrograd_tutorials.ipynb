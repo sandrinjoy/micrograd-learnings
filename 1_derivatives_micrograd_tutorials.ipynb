{
  "nbformat": 4,
  "nbformat_minor": 0,
  "metadata": {
    "colab": {
      "provenance": [],
      "authorship_tag": "ABX9TyO8R5v8HLHywwxAaJuTjhND",
      "include_colab_link": true
    },
    "kernelspec": {
      "name": "python3",
      "display_name": "Python 3"
    },
    "language_info": {
      "name": "python"
    }
  },
  "cells": [
    {
      "cell_type": "markdown",
      "metadata": {
        "id": "view-in-github",
        "colab_type": "text"
      },
      "source": [
        "<a href=\"https://colab.research.google.com/github/sandrinjoy/micrograd-learnings/blob/main/1_derivatives_micrograd_tutorials.ipynb\" target=\"_parent\"><img src=\"https://colab.research.google.com/assets/colab-badge.svg\" alt=\"Open In Colab\"/></a>"
      ]
    },
    {
      "cell_type": "markdown",
      "source": [
        "These are few learning and practise notes from this yt video :\n",
        "\n",
        "https://www.youtube.com/watch?v=VMj-3S1tku0&list=PLAqhIrjkxbuWI23v9cThsA9GvCAUhRvKZ\n",
        "\n",
        "It's by Andrej Karpathy"
      ],
      "metadata": {
        "id": "uzv97bBDx8Zs"
      }
    },
    {
      "cell_type": "code",
      "execution_count": 4,
      "metadata": {
        "id": "gdNtND0exXfz"
      },
      "outputs": [],
      "source": [
        "import math\n",
        "import numpy as np\n",
        "import matplotlib.pyplot as plt\n",
        "%matplotlib inline"
      ]
    },
    {
      "cell_type": "code",
      "source": [
        "def f(x):\n",
        "  return 2*x**2+5*x+5"
      ],
      "metadata": {
        "id": "PBD5U5Y9yYo7"
      },
      "execution_count": 6,
      "outputs": []
    },
    {
      "cell_type": "code",
      "source": [
        "f(3)"
      ],
      "metadata": {
        "colab": {
          "base_uri": "https://localhost:8080/"
        },
        "id": "FBDpbcykyc54",
        "outputId": "49ab01b3-a309-4bf4-8b0a-4232c42ad89d"
      },
      "execution_count": 8,
      "outputs": [
        {
          "output_type": "execute_result",
          "data": {
            "text/plain": [
              "38"
            ]
          },
          "metadata": {},
          "execution_count": 8
        }
      ]
    },
    {
      "cell_type": "code",
      "source": [
        "xs = np.arange(-5, 5, 0.25)\n",
        "ys = f(xs)\n",
        "\n",
        "xs, ys, plt.plot(xs, ys)"
      ],
      "metadata": {
        "colab": {
          "base_uri": "https://localhost:8080/",
          "height": 626
        },
        "id": "bBeJ39VZyqbV",
        "outputId": "83a07835-0929-4c30-ec3e-aa20623452a2"
      },
      "execution_count": 14,
      "outputs": [
        {
          "output_type": "execute_result",
          "data": {
            "text/plain": [
              "(array([-5.  , -4.75, -4.5 , -4.25, -4.  , -3.75, -3.5 , -3.25, -3.  ,\n",
              "        -2.75, -2.5 , -2.25, -2.  , -1.75, -1.5 , -1.25, -1.  , -0.75,\n",
              "        -0.5 , -0.25,  0.  ,  0.25,  0.5 ,  0.75,  1.  ,  1.25,  1.5 ,\n",
              "         1.75,  2.  ,  2.25,  2.5 ,  2.75,  3.  ,  3.25,  3.5 ,  3.75,\n",
              "         4.  ,  4.25,  4.5 ,  4.75]),\n",
              " array([30.   , 26.375, 23.   , 19.875, 17.   , 14.375, 12.   ,  9.875,\n",
              "         8.   ,  6.375,  5.   ,  3.875,  3.   ,  2.375,  2.   ,  1.875,\n",
              "         2.   ,  2.375,  3.   ,  3.875,  5.   ,  6.375,  8.   ,  9.875,\n",
              "        12.   , 14.375, 17.   , 19.875, 23.   , 26.375, 30.   , 33.875,\n",
              "        38.   , 42.375, 47.   , 51.875, 57.   , 62.375, 68.   , 73.875]),\n",
              " [<matplotlib.lines.Line2D at 0x7cd4a916c6a0>])"
            ]
          },
          "metadata": {},
          "execution_count": 14
        },
        {
          "output_type": "display_data",
          "data": {
            "text/plain": [
              "<Figure size 640x480 with 1 Axes>"
            ],
            "image/png": "[encoded data removed]"
          },
          "metadata": {}
        }
      ]
    },
    {
      "cell_type": "markdown",
      "source": [
        "now, let's try finding the derivative of f(x)\n",
        "by picking a number near 0"
      ],
      "metadata": {
        "id": "Fcr7AbASzv9x"
      }
    },
    {
      "cell_type": "code",
      "source": [
        "h= 0.00001\n",
        "x=3\n",
        "f(x), f(x+h)\n"
      ],
      "metadata": {
        "colab": {
          "base_uri": "https://localhost:8080/"
        },
        "id": "qlt9OSznz557",
        "outputId": "de4c1ca1-a4b0-4bd4-b2a1-c774e5a790b3"
      },
      "execution_count": 30,
      "outputs": [
        {
          "output_type": "execute_result",
          "data": {
            "text/plain": [
              "(38, 38.0001700002)"
            ]
          },
          "metadata": {},
          "execution_count": 30
        }
      ]
    },
    {
      "cell_type": "code",
      "source": [
        "f(x+h) - f(x)\n"
      ],
      "metadata": {
        "colab": {
          "base_uri": "https://localhost:8080/"
        },
        "id": "eqLdRDsD0TKy",
        "outputId": "9f1c28ec-f940-418d-cc4d-fc7188f7d49e"
      },
      "execution_count": 31,
      "outputs": [
        {
          "output_type": "execute_result",
          "data": {
            "text/plain": [
              "0.00017000020000068616"
            ]
          },
          "metadata": {},
          "execution_count": 31
        }
      ]
    },
    {
      "cell_type": "code",
      "source": [
        "#slope\n",
        "(f(x+h)-f(x))/h"
      ],
      "metadata": {
        "colab": {
          "base_uri": "https://localhost:8080/"
        },
        "id": "UJxmSCEz0ZWw",
        "outputId": "9c5c9a85-4c1b-47fa-f891-e19da90766c9"
      },
      "execution_count": 32,
      "outputs": [
        {
          "output_type": "execute_result",
          "data": {
            "text/plain": [
              "17.000020000068616"
            ]
          },
          "metadata": {},
          "execution_count": 32
        }
      ]
    },
    {
      "cell_type": "markdown",
      "source": [
        "just to evaluate derivate for understanding\n",
        "\n",
        "2x^2 + 5x +5\n",
        "\n",
        "=> 2 * 2x +5\n",
        "\n",
        "=> 4x +5\n",
        "\n",
        "----------\n",
        "\n",
        "=> 4*3 +5  =  17"
      ],
      "metadata": {
        "id": "fgNot_dZ03-i"
      }
    },
    {
      "cell_type": "code",
      "source": [
        "a= 4\n",
        "b= -5\n",
        "c=3\n",
        "d = a*b+c\n",
        "d"
      ],
      "metadata": {
        "colab": {
          "base_uri": "https://localhost:8080/"
        },
        "id": "ozEWQKOV0agJ",
        "outputId": "7c50ef4a-6f2b-48eb-e4c1-c3e7878418d7"
      },
      "execution_count": 35,
      "outputs": [
        {
          "output_type": "execute_result",
          "data": {
            "text/plain": [
              "-17"
            ]
          },
          "metadata": {},
          "execution_count": 35
        }
      ]
    },
    {
      "cell_type": "code",
      "source": [
        "h= 0.0001\n",
        "a= 4\n",
        "b= -5\n",
        "c=3\n",
        "\n",
        "d1 = a*b+c\n",
        "a +=h\n",
        "d2 = a*b+c\n",
        "print('d1', d1)\n",
        "print('d2', d2)\n",
        "print('slope ', (d2-d1)/h)\n",
        "\n"
      ],
      "metadata": {
        "colab": {
          "base_uri": "https://localhost:8080/"
        },
        "id": "hHfKfxs74HVB",
        "outputId": "25d2eaf5-233a-4b77-c393-5857fc509cc7"
      },
      "execution_count": 36,
      "outputs": [
        {
          "output_type": "stream",
          "name": "stdout",
          "text": [
            "d1 -17\n",
            "d2 -17.0005\n",
            "slope  -4.999999999988347\n"
          ]
        }
      ]
    },
    {
      "cell_type": "markdown",
      "source": [
        "in conclusion, derivate basically tells how much a  variable / parameter affects the function , a slope value gives the numerical representation of it."
      ],
      "metadata": {
        "id": "d_L0Skgx4oVq"
      }
    }
  ]
}