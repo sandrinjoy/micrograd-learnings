{
  "nbformat": 4,
  "nbformat_minor": 0,
  "metadata": {
    "colab": {
      "provenance": [],
      "authorship_tag": "ABX9TyMNmalO1aHkJZiaFlMolvGA",
      "include_colab_link": true
    },
    "kernelspec": {
      "name": "python3",
      "display_name": "Python 3"
    },
    "language_info": {
      "name": "python"
    }
  },
  "cells": [
    {
      "cell_type": "markdown",
      "metadata": {
        "id": "view-in-github",
        "colab_type": "text"
      },
      "source": [
        "<a href=\"https://colab.research.google.com/github/sandrinjoy/micrograd-learnings/blob/main/2_Value_in_NN_%2C_Backpropagation%2C_Optimizing_NN_micrograd_tutorials.ipynb\" target=\"_parent\"><img src=\"https://colab.research.google.com/assets/colab-badge.svg\" alt=\"Open In Colab\"/></a>"
      ]
    },
    {
      "cell_type": "markdown",
      "source": [
        "We will be looking into how a value/variable is defined in a NN.\n",
        "\n",
        "A value in NN can become very complex unlike prev examples of derivatives we looked it.\n",
        "\n",
        "So, we create a class definition for Value."
      ],
      "metadata": {
        "id": "uzv97bBDx8Zs"
      }
    },
    {
      "cell_type": "code",
      "execution_count": 2,
      "metadata": {
        "id": "gdNtND0exXfz"
      },
      "outputs": [],
      "source": [
        "import math\n",
        "import numpy as np\n",
        "import matplotlib.pyplot as plt\n",
        "%matplotlib inline\n",
        "\n"
      ]
    },
    {
      "cell_type": "code",
      "source": [
        "class Value:\n",
        "  def __init__(self, data, _children= (), _op = '', label=''):\n",
        "    self.data= data\n",
        "    self.grad = 0.0\n",
        "    self._prev = set(_children)\n",
        "    self._op = _op\n",
        "    self.label = label\n",
        "\n",
        "  def __repr__(self):\n",
        "    return f\"Value(data={self.data})\"\n",
        "\n",
        "  def __add__(self, other):\n",
        "    out = Value(self.data + other.data, (self, other), '+')\n",
        "    return out\n",
        "  def __mul__(self, other):\n",
        "    out = Value(self.data * other.data, (self, other), '*')\n",
        "    return out\n",
        "a = Value(3, label='a')\n",
        "b = Value(5, label = 'b')\n",
        "c = Value(8, label = 'c')\n",
        "e = a*b\n",
        "e.label = 'e'\n",
        "d = e+c\n",
        "d.label = 'd'\n",
        "d.data, d._prev, d._op\n",
        "\n",
        "f = Value(-2.0, label = 'f')\n",
        "L = d *f\n",
        "L.label = 'L'"
      ],
      "metadata": {
        "id": "hA1rSRNmEyZY"
      },
      "execution_count": 3,
      "outputs": []
    },
    {
      "cell_type": "markdown",
      "source": [
        "To visualize, we will be using a graphviz"
      ],
      "metadata": {
        "id": "p-ht4MfVHxF7"
      }
    },
    {
      "cell_type": "code",
      "source": [
        "from graphviz import Digraph\n",
        "\n",
        "def trace(root):\n",
        "  # builds a set of all nodes and edges in a graph\n",
        "  nodes, edges = set(), set()\n",
        "  def build(v):\n",
        "    if v not in nodes:\n",
        "      nodes.add(v)\n",
        "      for child in v._prev:\n",
        "        edges.add((child, v))\n",
        "        build(child)\n",
        "  build(root)\n",
        "  return nodes, edges\n",
        "\n",
        "def draw_dot(root):\n",
        "  dot = Digraph(format='svg', graph_attr={'rankdir': 'LR'}) # LR = left to right\n",
        "\n",
        "  nodes, edges = trace(root)\n",
        "  for n in nodes:\n",
        "    uid = str(id(n))\n",
        "    # for any value in the graph, create a rectangular ('record') node for it\n",
        "    dot.node(name = uid, label = \"{ %s | data %.4f | grad %.4f }\" % (n.label, n.data, n.grad), shape='record')\n",
        "    if n._op:\n",
        "      # if this value is a result of some operation, create an op node for it\n",
        "      dot.node(name = uid + n._op, label = n._op)\n",
        "      # and connect this node to it\n",
        "      dot.edge(uid + n._op, uid)\n",
        "\n",
        "  for n1, n2 in edges:\n",
        "    # connect n1 to the op node of n2\n",
        "    dot.edge(str(id(n1)), str(id(n2)) + n2._op)\n",
        "\n",
        "  return dot"
      ],
      "metadata": {
        "id": "CJnaqLPSHwQP"
      },
      "execution_count": 4,
      "outputs": []
    },
    {
      "cell_type": "code",
      "source": [
        "draw_dot(L)"
      ],
      "metadata": {
        "colab": {
          "base_uri": "https://localhost:8080/",
          "height": 212
        },
        "id": "DL0oPuamH1qV",
        "outputId": "74da85ac-ac07-4d70-84de-bfaddf943cc6"
      },
      "execution_count": 5,
      "outputs": [
        {
          "output_type": "execute_result",
          "data": {
            "image/svg+xml": "<?xml version=\"1.0\" encoding=\"UTF-8\" standalone=\"no\"?>\n<!DOCTYPE svg PUBLIC \"-//W3C//DTD SVG 1.1//EN\"\n \"http://www.w3.org/Graphics/SVG/1.1/DTD/svg11.dtd\">\n<!-- Generated by graphviz version 2.43.0 (0)\n -->\n<!-- Title: %3 Pages: 1 -->\n<svg width=\"1154pt\" height=\"128pt\"\n viewBox=\"0.00 0.00 1154.00 128.00\" xmlns=\"http://www.w3.org/2000/svg\" xmlns:xlink=\"http://www.w3.org/1999/xlink\">\n<g id=\"graph0\" class=\"graph\" transform=\"scale(1 1) rotate(0) translate(4 124)\">\n<title>%3</title>\n<polygon fill=\"white\" stroke=\"transparent\" points=\"-4,4 -4,-124 1150,-124 1150,4 -4,4\"/>\n<!-- 138023557659136 -->\n<g id=\"node1\" class=\"node\">\n<title>138023557659136</title>\n<polygon fill=\"none\" stroke=\"black\" points=\"314.5,-83.5 314.5,-119.5 499.5,-119.5 499.5,-83.5 314.5,-83.5\"/>\n<text text-anchor=\"middle\" x=\"326\" y=\"-97.8\" font-family=\"Times,serif\" font-size=\"14.00\">c</text>\n<polyline fill=\"none\" stroke=\"black\" points=\"337.5,-83.5 337.5,-119.5 \"/>\n<text text-anchor=\"middle\" x=\"377.5\" y=\"-97.8\" font-family=\"Times,serif\" font-size=\"14.00\">data 8.0000</text>\n<polyline fill=\"none\" stroke=\"black\" points=\"417.5,-83.5 417.5,-119.5 \"/>\n<text text-anchor=\"middle\" x=\"458.5\" y=\"-97.8\" font-family=\"Times,serif\" font-size=\"14.00\">grad 0.0000</text>\n</g>\n<!-- 138023557646944+ -->\n<g id=\"node3\" class=\"node\">\n<title>138023557646944+</title>\n<ellipse fill=\"none\" stroke=\"black\" cx=\"566\" cy=\"-73.5\" rx=\"27\" ry=\"18\"/>\n<text text-anchor=\"middle\" x=\"566\" y=\"-69.8\" font-family=\"Times,serif\" font-size=\"14.00\">+</text>\n</g>\n<!-- 138023557659136&#45;&gt;138023557646944+ -->\n<g id=\"edge5\" class=\"edge\">\n<title>138023557659136&#45;&gt;138023557646944+</title>\n<path fill=\"none\" stroke=\"black\" d=\"M499.78,-85.13C510.3,-83.26 520.48,-81.44 529.56,-79.82\"/>\n<polygon fill=\"black\" stroke=\"black\" points=\"530.42,-83.22 539.65,-78.02 529.19,-76.33 530.42,-83.22\"/>\n</g>\n<!-- 138023557646944 -->\n<g id=\"node2\" class=\"node\">\n<title>138023557646944</title>\n<polygon fill=\"none\" stroke=\"black\" points=\"629,-55.5 629,-91.5 821,-91.5 821,-55.5 629,-55.5\"/>\n<text text-anchor=\"middle\" x=\"640.5\" y=\"-69.8\" font-family=\"Times,serif\" font-size=\"14.00\">d</text>\n<polyline fill=\"none\" stroke=\"black\" points=\"652,-55.5 652,-91.5 \"/>\n<text text-anchor=\"middle\" x=\"695.5\" y=\"-69.8\" font-family=\"Times,serif\" font-size=\"14.00\">data 23.0000</text>\n<polyline fill=\"none\" stroke=\"black\" points=\"739,-55.5 739,-91.5 \"/>\n<text text-anchor=\"middle\" x=\"780\" y=\"-69.8\" font-family=\"Times,serif\" font-size=\"14.00\">grad 0.0000</text>\n</g>\n<!-- 138023557645024* -->\n<g id=\"node7\" class=\"node\">\n<title>138023557645024*</title>\n<ellipse fill=\"none\" stroke=\"black\" cx=\"884\" cy=\"-45.5\" rx=\"27\" ry=\"18\"/>\n<text text-anchor=\"middle\" x=\"884\" y=\"-41.8\" font-family=\"Times,serif\" font-size=\"14.00\">*</text>\n</g>\n<!-- 138023557646944&#45;&gt;138023557645024* -->\n<g id=\"edge4\" class=\"edge\">\n<title>138023557646944&#45;&gt;138023557645024*</title>\n<path fill=\"none\" stroke=\"black\" d=\"M821.4,-56.49C830.69,-54.83 839.64,-53.23 847.71,-51.79\"/>\n<polygon fill=\"black\" stroke=\"black\" points=\"848.53,-55.2 857.76,-50 847.31,-48.31 848.53,-55.2\"/>\n</g>\n<!-- 138023557646944+&#45;&gt;138023557646944 -->\n<g id=\"edge1\" class=\"edge\">\n<title>138023557646944+&#45;&gt;138023557646944</title>\n<path fill=\"none\" stroke=\"black\" d=\"M593.28,-73.5C600.78,-73.5 609.44,-73.5 618.67,-73.5\"/>\n<polygon fill=\"black\" stroke=\"black\" points=\"618.87,-77 628.87,-73.5 618.87,-70 618.87,-77\"/>\n</g>\n<!-- 138023557659232 -->\n<g id=\"node4\" class=\"node\">\n<title>138023557659232</title>\n<polygon fill=\"none\" stroke=\"black\" points=\"0,-56.5 0,-92.5 185,-92.5 185,-56.5 0,-56.5\"/>\n<text text-anchor=\"middle\" x=\"11.5\" y=\"-70.8\" font-family=\"Times,serif\" font-size=\"14.00\">b</text>\n<polyline fill=\"none\" stroke=\"black\" points=\"23,-56.5 23,-92.5 \"/>\n<text text-anchor=\"middle\" x=\"63\" y=\"-70.8\" font-family=\"Times,serif\" font-size=\"14.00\">data 5.0000</text>\n<polyline fill=\"none\" stroke=\"black\" points=\"103,-56.5 103,-92.5 \"/>\n<text text-anchor=\"middle\" x=\"144\" y=\"-70.8\" font-family=\"Times,serif\" font-size=\"14.00\">grad 0.0000</text>\n</g>\n<!-- 138023557649152* -->\n<g id=\"node9\" class=\"node\">\n<title>138023557649152*</title>\n<ellipse fill=\"none\" stroke=\"black\" cx=\"248\" cy=\"-46.5\" rx=\"27\" ry=\"18\"/>\n<text text-anchor=\"middle\" x=\"248\" y=\"-42.8\" font-family=\"Times,serif\" font-size=\"14.00\">*</text>\n</g>\n<!-- 138023557659232&#45;&gt;138023557649152* -->\n<g id=\"edge8\" class=\"edge\">\n<title>138023557659232&#45;&gt;138023557649152*</title>\n<path fill=\"none\" stroke=\"black\" d=\"M185.01,-57.81C194.49,-56.08 203.66,-54.41 211.9,-52.9\"/>\n<polygon fill=\"black\" stroke=\"black\" points=\"212.6,-56.33 221.81,-51.09 211.35,-49.45 212.6,-56.33\"/>\n</g>\n<!-- 138023557655200 -->\n<g id=\"node5\" class=\"node\">\n<title>138023557655200</title>\n<polygon fill=\"none\" stroke=\"black\" points=\"0,-1.5 0,-37.5 185,-37.5 185,-1.5 0,-1.5\"/>\n<text text-anchor=\"middle\" x=\"11.5\" y=\"-15.8\" font-family=\"Times,serif\" font-size=\"14.00\">a</text>\n<polyline fill=\"none\" stroke=\"black\" points=\"23,-1.5 23,-37.5 \"/>\n<text text-anchor=\"middle\" x=\"63\" y=\"-15.8\" font-family=\"Times,serif\" font-size=\"14.00\">data 3.0000</text>\n<polyline fill=\"none\" stroke=\"black\" points=\"103,-1.5 103,-37.5 \"/>\n<text text-anchor=\"middle\" x=\"144\" y=\"-15.8\" font-family=\"Times,serif\" font-size=\"14.00\">grad 0.0000</text>\n</g>\n<!-- 138023557655200&#45;&gt;138023557649152* -->\n<g id=\"edge6\" class=\"edge\">\n<title>138023557655200&#45;&gt;138023557649152*</title>\n<path fill=\"none\" stroke=\"black\" d=\"M185.01,-35.6C194.49,-37.26 203.66,-38.88 211.9,-40.33\"/>\n<polygon fill=\"black\" stroke=\"black\" points=\"211.36,-43.78 221.81,-42.07 212.57,-36.89 211.36,-43.78\"/>\n</g>\n<!-- 138023557645024 -->\n<g id=\"node6\" class=\"node\">\n<title>138023557645024</title>\n<polygon fill=\"none\" stroke=\"black\" points=\"947,-27.5 947,-63.5 1146,-63.5 1146,-27.5 947,-27.5\"/>\n<text text-anchor=\"middle\" x=\"959.5\" y=\"-41.8\" font-family=\"Times,serif\" font-size=\"14.00\">L</text>\n<polyline fill=\"none\" stroke=\"black\" points=\"972,-27.5 972,-63.5 \"/>\n<text text-anchor=\"middle\" x=\"1018\" y=\"-41.8\" font-family=\"Times,serif\" font-size=\"14.00\">data &#45;46.0000</text>\n<polyline fill=\"none\" stroke=\"black\" points=\"1064,-27.5 1064,-63.5 \"/>\n<text text-anchor=\"middle\" x=\"1105\" y=\"-41.8\" font-family=\"Times,serif\" font-size=\"14.00\">grad 0.0000</text>\n</g>\n<!-- 138023557645024*&#45;&gt;138023557645024 -->\n<g id=\"edge2\" class=\"edge\">\n<title>138023557645024*&#45;&gt;138023557645024</title>\n<path fill=\"none\" stroke=\"black\" d=\"M911.14,-45.5C918.65,-45.5 927.33,-45.5 936.6,-45.5\"/>\n<polygon fill=\"black\" stroke=\"black\" points=\"936.86,-49 946.86,-45.5 936.86,-42 936.86,-49\"/>\n</g>\n<!-- 138023557649152 -->\n<g id=\"node8\" class=\"node\">\n<title>138023557649152</title>\n<polygon fill=\"none\" stroke=\"black\" points=\"311,-28.5 311,-64.5 503,-64.5 503,-28.5 311,-28.5\"/>\n<text text-anchor=\"middle\" x=\"322.5\" y=\"-42.8\" font-family=\"Times,serif\" font-size=\"14.00\">e</text>\n<polyline fill=\"none\" stroke=\"black\" points=\"334,-28.5 334,-64.5 \"/>\n<text text-anchor=\"middle\" x=\"377.5\" y=\"-42.8\" font-family=\"Times,serif\" font-size=\"14.00\">data 15.0000</text>\n<polyline fill=\"none\" stroke=\"black\" points=\"421,-28.5 421,-64.5 \"/>\n<text text-anchor=\"middle\" x=\"462\" y=\"-42.8\" font-family=\"Times,serif\" font-size=\"14.00\">grad 0.0000</text>\n</g>\n<!-- 138023557649152&#45;&gt;138023557646944+ -->\n<g id=\"edge7\" class=\"edge\">\n<title>138023557649152&#45;&gt;138023557646944+</title>\n<path fill=\"none\" stroke=\"black\" d=\"M503.4,-62.91C512.69,-64.5 521.64,-66.04 529.71,-67.43\"/>\n<polygon fill=\"black\" stroke=\"black\" points=\"529.32,-70.91 539.76,-69.16 530.5,-64.02 529.32,-70.91\"/>\n</g>\n<!-- 138023557649152*&#45;&gt;138023557649152 -->\n<g id=\"edge3\" class=\"edge\">\n<title>138023557649152*&#45;&gt;138023557649152</title>\n<path fill=\"none\" stroke=\"black\" d=\"M275.28,-46.5C282.78,-46.5 291.44,-46.5 300.67,-46.5\"/>\n<polygon fill=\"black\" stroke=\"black\" points=\"300.87,-50 310.87,-46.5 300.87,-43 300.87,-50\"/>\n</g>\n<!-- 138023557647808 -->\n<g id=\"node10\" class=\"node\">\n<title>138023557647808</title>\n<polygon fill=\"none\" stroke=\"black\" points=\"631,-0.5 631,-36.5 819,-36.5 819,-0.5 631,-0.5\"/>\n<text text-anchor=\"middle\" x=\"641.5\" y=\"-14.8\" font-family=\"Times,serif\" font-size=\"14.00\">f</text>\n<polyline fill=\"none\" stroke=\"black\" points=\"652,-0.5 652,-36.5 \"/>\n<text text-anchor=\"middle\" x=\"694.5\" y=\"-14.8\" font-family=\"Times,serif\" font-size=\"14.00\">data &#45;2.0000</text>\n<polyline fill=\"none\" stroke=\"black\" points=\"737,-0.5 737,-36.5 \"/>\n<text text-anchor=\"middle\" x=\"778\" y=\"-14.8\" font-family=\"Times,serif\" font-size=\"14.00\">grad 0.0000</text>\n</g>\n<!-- 138023557647808&#45;&gt;138023557645024* -->\n<g id=\"edge9\" class=\"edge\">\n<title>138023557647808&#45;&gt;138023557645024*</title>\n<path fill=\"none\" stroke=\"black\" d=\"M819.14,-34.52C829.19,-36.25 838.9,-37.92 847.59,-39.41\"/>\n<polygon fill=\"black\" stroke=\"black\" points=\"847.2,-42.89 857.64,-41.14 848.38,-36 847.2,-42.89\"/>\n</g>\n</g>\n</svg>\n",
            "text/plain": [
              "<graphviz.graphs.Digraph at 0x7d881d1fce80>"
            ]
          },
          "metadata": {},
          "execution_count": 5
        }
      ]
    },
    {
      "cell_type": "markdown",
      "source": [
        "Here, L is the loss function\n",
        "\n",
        "next, we will be finding the derivates of all the leaf nodes, which will become the weight of NN\n",
        "\n",
        "So rather than relying on the data value , we will reply on a value, we call it Gradiant value.\n",
        "\n",
        "gradiant = derivative of L (output) wrt values (a, b, c, d,e f)\n",
        "\n",
        "grad -> 0 , means no effect\n",
        "\n",
        "\n"
      ],
      "metadata": {
        "id": "7qo56ca4Kgqe"
      }
    },
    {
      "cell_type": "code",
      "source": [
        "draw_dot(L)"
      ],
      "metadata": {
        "colab": {
          "base_uri": "https://localhost:8080/",
          "height": 212
        },
        "id": "a4n9vW04KgZi",
        "outputId": "a7d1ba54-cec5-432f-defd-d29f98509278"
      },
      "execution_count": 6,
      "outputs": [
        {
          "output_type": "execute_result",
          "data": {
            "image/svg+xml": "<?xml version=\"1.0\" encoding=\"UTF-8\" standalone=\"no\"?>\n<!DOCTYPE svg PUBLIC \"-//W3C//DTD SVG 1.1//EN\"\n \"http://www.w3.org/Graphics/SVG/1.1/DTD/svg11.dtd\">\n<!-- Generated by graphviz version 2.43.0 (0)\n -->\n<!-- Title: %3 Pages: 1 -->\n<svg width=\"1154pt\" height=\"128pt\"\n viewBox=\"0.00 0.00 1154.00 128.00\" xmlns=\"http://www.w3.org/2000/svg\" xmlns:xlink=\"http://www.w3.org/1999/xlink\">\n<g id=\"graph0\" class=\"graph\" transform=\"scale(1 1) rotate(0) translate(4 124)\">\n<title>%3</title>\n<polygon fill=\"white\" stroke=\"transparent\" points=\"-4,4 -4,-124 1150,-124 1150,4 -4,4\"/>\n<!-- 138023557659136 -->\n<g id=\"node1\" class=\"node\">\n<title>138023557659136</title>\n<polygon fill=\"none\" stroke=\"black\" points=\"314.5,-83.5 314.5,-119.5 499.5,-119.5 499.5,-83.5 314.5,-83.5\"/>\n<text text-anchor=\"middle\" x=\"326\" y=\"-97.8\" font-family=\"Times,serif\" font-size=\"14.00\">c</text>\n<polyline fill=\"none\" stroke=\"black\" points=\"337.5,-83.5 337.5,-119.5 \"/>\n<text text-anchor=\"middle\" x=\"377.5\" y=\"-97.8\" font-family=\"Times,serif\" font-size=\"14.00\">data 8.0000</text>\n<polyline fill=\"none\" stroke=\"black\" points=\"417.5,-83.5 417.5,-119.5 \"/>\n<text text-anchor=\"middle\" x=\"458.5\" y=\"-97.8\" font-family=\"Times,serif\" font-size=\"14.00\">grad 0.0000</text>\n</g>\n<!-- 138023557646944+ -->\n<g id=\"node3\" class=\"node\">\n<title>138023557646944+</title>\n<ellipse fill=\"none\" stroke=\"black\" cx=\"566\" cy=\"-73.5\" rx=\"27\" ry=\"18\"/>\n<text text-anchor=\"middle\" x=\"566\" y=\"-69.8\" font-family=\"Times,serif\" font-size=\"14.00\">+</text>\n</g>\n<!-- 138023557659136&#45;&gt;138023557646944+ -->\n<g id=\"edge5\" class=\"edge\">\n<title>138023557659136&#45;&gt;138023557646944+</title>\n<path fill=\"none\" stroke=\"black\" d=\"M499.78,-85.13C510.3,-83.26 520.48,-81.44 529.56,-79.82\"/>\n<polygon fill=\"black\" stroke=\"black\" points=\"530.42,-83.22 539.65,-78.02 529.19,-76.33 530.42,-83.22\"/>\n</g>\n<!-- 138023557646944 -->\n<g id=\"node2\" class=\"node\">\n<title>138023557646944</title>\n<polygon fill=\"none\" stroke=\"black\" points=\"629,-55.5 629,-91.5 821,-91.5 821,-55.5 629,-55.5\"/>\n<text text-anchor=\"middle\" x=\"640.5\" y=\"-69.8\" font-family=\"Times,serif\" font-size=\"14.00\">d</text>\n<polyline fill=\"none\" stroke=\"black\" points=\"652,-55.5 652,-91.5 \"/>\n<text text-anchor=\"middle\" x=\"695.5\" y=\"-69.8\" font-family=\"Times,serif\" font-size=\"14.00\">data 23.0000</text>\n<polyline fill=\"none\" stroke=\"black\" points=\"739,-55.5 739,-91.5 \"/>\n<text text-anchor=\"middle\" x=\"780\" y=\"-69.8\" font-family=\"Times,serif\" font-size=\"14.00\">grad 0.0000</text>\n</g>\n<!-- 138023557645024* -->\n<g id=\"node7\" class=\"node\">\n<title>138023557645024*</title>\n<ellipse fill=\"none\" stroke=\"black\" cx=\"884\" cy=\"-45.5\" rx=\"27\" ry=\"18\"/>\n<text text-anchor=\"middle\" x=\"884\" y=\"-41.8\" font-family=\"Times,serif\" font-size=\"14.00\">*</text>\n</g>\n<!-- 138023557646944&#45;&gt;138023557645024* -->\n<g id=\"edge4\" class=\"edge\">\n<title>138023557646944&#45;&gt;138023557645024*</title>\n<path fill=\"none\" stroke=\"black\" d=\"M821.4,-56.49C830.69,-54.83 839.64,-53.23 847.71,-51.79\"/>\n<polygon fill=\"black\" stroke=\"black\" points=\"848.53,-55.2 857.76,-50 847.31,-48.31 848.53,-55.2\"/>\n</g>\n<!-- 138023557646944+&#45;&gt;138023557646944 -->\n<g id=\"edge1\" class=\"edge\">\n<title>138023557646944+&#45;&gt;138023557646944</title>\n<path fill=\"none\" stroke=\"black\" d=\"M593.28,-73.5C600.78,-73.5 609.44,-73.5 618.67,-73.5\"/>\n<polygon fill=\"black\" stroke=\"black\" points=\"618.87,-77 628.87,-73.5 618.87,-70 618.87,-77\"/>\n</g>\n<!-- 138023557659232 -->\n<g id=\"node4\" class=\"node\">\n<title>138023557659232</title>\n<polygon fill=\"none\" stroke=\"black\" points=\"0,-56.5 0,-92.5 185,-92.5 185,-56.5 0,-56.5\"/>\n<text text-anchor=\"middle\" x=\"11.5\" y=\"-70.8\" font-family=\"Times,serif\" font-size=\"14.00\">b</text>\n<polyline fill=\"none\" stroke=\"black\" points=\"23,-56.5 23,-92.5 \"/>\n<text text-anchor=\"middle\" x=\"63\" y=\"-70.8\" font-family=\"Times,serif\" font-size=\"14.00\">data 5.0000</text>\n<polyline fill=\"none\" stroke=\"black\" points=\"103,-56.5 103,-92.5 \"/>\n<text text-anchor=\"middle\" x=\"144\" y=\"-70.8\" font-family=\"Times,serif\" font-size=\"14.00\">grad 0.0000</text>\n</g>\n<!-- 138023557649152* -->\n<g id=\"node9\" class=\"node\">\n<title>138023557649152*</title>\n<ellipse fill=\"none\" stroke=\"black\" cx=\"248\" cy=\"-46.5\" rx=\"27\" ry=\"18\"/>\n<text text-anchor=\"middle\" x=\"248\" y=\"-42.8\" font-family=\"Times,serif\" font-size=\"14.00\">*</text>\n</g>\n<!-- 138023557659232&#45;&gt;138023557649152* -->\n<g id=\"edge8\" class=\"edge\">\n<title>138023557659232&#45;&gt;138023557649152*</title>\n<path fill=\"none\" stroke=\"black\" d=\"M185.01,-57.81C194.49,-56.08 203.66,-54.41 211.9,-52.9\"/>\n<polygon fill=\"black\" stroke=\"black\" points=\"212.6,-56.33 221.81,-51.09 211.35,-49.45 212.6,-56.33\"/>\n</g>\n<!-- 138023557655200 -->\n<g id=\"node5\" class=\"node\">\n<title>138023557655200</title>\n<polygon fill=\"none\" stroke=\"black\" points=\"0,-1.5 0,-37.5 185,-37.5 185,-1.5 0,-1.5\"/>\n<text text-anchor=\"middle\" x=\"11.5\" y=\"-15.8\" font-family=\"Times,serif\" font-size=\"14.00\">a</text>\n<polyline fill=\"none\" stroke=\"black\" points=\"23,-1.5 23,-37.5 \"/>\n<text text-anchor=\"middle\" x=\"63\" y=\"-15.8\" font-family=\"Times,serif\" font-size=\"14.00\">data 3.0000</text>\n<polyline fill=\"none\" stroke=\"black\" points=\"103,-1.5 103,-37.5 \"/>\n<text text-anchor=\"middle\" x=\"144\" y=\"-15.8\" font-family=\"Times,serif\" font-size=\"14.00\">grad 0.0000</text>\n</g>\n<!-- 138023557655200&#45;&gt;138023557649152* -->\n<g id=\"edge6\" class=\"edge\">\n<title>138023557655200&#45;&gt;138023557649152*</title>\n<path fill=\"none\" stroke=\"black\" d=\"M185.01,-35.6C194.49,-37.26 203.66,-38.88 211.9,-40.33\"/>\n<polygon fill=\"black\" stroke=\"black\" points=\"211.36,-43.78 221.81,-42.07 212.57,-36.89 211.36,-43.78\"/>\n</g>\n<!-- 138023557645024 -->\n<g id=\"node6\" class=\"node\">\n<title>138023557645024</title>\n<polygon fill=\"none\" stroke=\"black\" points=\"947,-27.5 947,-63.5 1146,-63.5 1146,-27.5 947,-27.5\"/>\n<text text-anchor=\"middle\" x=\"959.5\" y=\"-41.8\" font-family=\"Times,serif\" font-size=\"14.00\">L</text>\n<polyline fill=\"none\" stroke=\"black\" points=\"972,-27.5 972,-63.5 \"/>\n<text text-anchor=\"middle\" x=\"1018\" y=\"-41.8\" font-family=\"Times,serif\" font-size=\"14.00\">data &#45;46.0000</text>\n<polyline fill=\"none\" stroke=\"black\" points=\"1064,-27.5 1064,-63.5 \"/>\n<text text-anchor=\"middle\" x=\"1105\" y=\"-41.8\" font-family=\"Times,serif\" font-size=\"14.00\">grad 0.0000</text>\n</g>\n<!-- 138023557645024*&#45;&gt;138023557645024 -->\n<g id=\"edge2\" class=\"edge\">\n<title>138023557645024*&#45;&gt;138023557645024</title>\n<path fill=\"none\" stroke=\"black\" d=\"M911.14,-45.5C918.65,-45.5 927.33,-45.5 936.6,-45.5\"/>\n<polygon fill=\"black\" stroke=\"black\" points=\"936.86,-49 946.86,-45.5 936.86,-42 936.86,-49\"/>\n</g>\n<!-- 138023557649152 -->\n<g id=\"node8\" class=\"node\">\n<title>138023557649152</title>\n<polygon fill=\"none\" stroke=\"black\" points=\"311,-28.5 311,-64.5 503,-64.5 503,-28.5 311,-28.5\"/>\n<text text-anchor=\"middle\" x=\"322.5\" y=\"-42.8\" font-family=\"Times,serif\" font-size=\"14.00\">e</text>\n<polyline fill=\"none\" stroke=\"black\" points=\"334,-28.5 334,-64.5 \"/>\n<text text-anchor=\"middle\" x=\"377.5\" y=\"-42.8\" font-family=\"Times,serif\" font-size=\"14.00\">data 15.0000</text>\n<polyline fill=\"none\" stroke=\"black\" points=\"421,-28.5 421,-64.5 \"/>\n<text text-anchor=\"middle\" x=\"462\" y=\"-42.8\" font-family=\"Times,serif\" font-size=\"14.00\">grad 0.0000</text>\n</g>\n<!-- 138023557649152&#45;&gt;138023557646944+ -->\n<g id=\"edge7\" class=\"edge\">\n<title>138023557649152&#45;&gt;138023557646944+</title>\n<path fill=\"none\" stroke=\"black\" d=\"M503.4,-62.91C512.69,-64.5 521.64,-66.04 529.71,-67.43\"/>\n<polygon fill=\"black\" stroke=\"black\" points=\"529.32,-70.91 539.76,-69.16 530.5,-64.02 529.32,-70.91\"/>\n</g>\n<!-- 138023557649152*&#45;&gt;138023557649152 -->\n<g id=\"edge3\" class=\"edge\">\n<title>138023557649152*&#45;&gt;138023557649152</title>\n<path fill=\"none\" stroke=\"black\" d=\"M275.28,-46.5C282.78,-46.5 291.44,-46.5 300.67,-46.5\"/>\n<polygon fill=\"black\" stroke=\"black\" points=\"300.87,-50 310.87,-46.5 300.87,-43 300.87,-50\"/>\n</g>\n<!-- 138023557647808 -->\n<g id=\"node10\" class=\"node\">\n<title>138023557647808</title>\n<polygon fill=\"none\" stroke=\"black\" points=\"631,-0.5 631,-36.5 819,-36.5 819,-0.5 631,-0.5\"/>\n<text text-anchor=\"middle\" x=\"641.5\" y=\"-14.8\" font-family=\"Times,serif\" font-size=\"14.00\">f</text>\n<polyline fill=\"none\" stroke=\"black\" points=\"652,-0.5 652,-36.5 \"/>\n<text text-anchor=\"middle\" x=\"694.5\" y=\"-14.8\" font-family=\"Times,serif\" font-size=\"14.00\">data &#45;2.0000</text>\n<polyline fill=\"none\" stroke=\"black\" points=\"737,-0.5 737,-36.5 \"/>\n<text text-anchor=\"middle\" x=\"778\" y=\"-14.8\" font-family=\"Times,serif\" font-size=\"14.00\">grad 0.0000</text>\n</g>\n<!-- 138023557647808&#45;&gt;138023557645024* -->\n<g id=\"edge9\" class=\"edge\">\n<title>138023557647808&#45;&gt;138023557645024*</title>\n<path fill=\"none\" stroke=\"black\" d=\"M819.14,-34.52C829.19,-36.25 838.9,-37.92 847.59,-39.41\"/>\n<polygon fill=\"black\" stroke=\"black\" points=\"847.2,-42.89 857.64,-41.14 848.38,-36 847.2,-42.89\"/>\n</g>\n</g>\n</svg>\n",
            "text/plain": [
              "<graphviz.graphs.Digraph at 0x7d881d1feb00>"
            ]
          },
          "metadata": {},
          "execution_count": 6
        }
      ]
    },
    {
      "cell_type": "code",
      "source": [
        "def mock():\n",
        "  h= 0.0001\n",
        "\n",
        "  a = Value(3, label='a')\n",
        "  b = Value(5, label = 'b')\n",
        "  c = Value(8, label = 'c')\n",
        "  e = a*b\n",
        "  e.label = 'e'\n",
        "  d = e+c\n",
        "  d.label = 'd'\n",
        "  d.data, d._prev, d._op\n",
        "  f = Value(-2.0, label = 'f')\n",
        "  L = d *f\n",
        "  L.label = 'L'\n",
        "  L1 = L.data\n",
        "\n",
        "  a = Value(3 + h, label='a')\n",
        "  b = Value(5, label = 'b')\n",
        "  c = Value(8, label = 'c')\n",
        "  e = a*b\n",
        "  e.label = 'e'\n",
        "  d = e+c\n",
        "  d.label = 'd'\n",
        "  d.data, d._prev, d._op\n",
        "  f = Value(-2.0+h, label = 'f')\n",
        "  L = d *f\n",
        "  L.label = 'L'\n",
        "  L2 = L.data\n",
        "\n",
        "  print((L2 -L1)/h)\n",
        "mock()"
      ],
      "metadata": {
        "colab": {
          "base_uri": "https://localhost:8080/"
        },
        "id": "XHMQd0NGMHlP",
        "outputId": "60825051-9aad-4a75-d316-5eb11f8364a0"
      },
      "execution_count": 12,
      "outputs": [
        {
          "output_type": "stream",
          "name": "stdout",
          "text": [
            "13.000499999975546\n"
          ]
        }
      ]
    },
    {
      "cell_type": "markdown",
      "source": [
        "###Manual backpropagation by finding derivatives\n"
      ],
      "metadata": {
        "id": "xvJ1C6IANGKH"
      }
    },
    {
      "cell_type": "code",
      "source": [
        "# result grad is 1 , base case  (l2 -l1)/h\n",
        "L.grad = 1\n",
        "draw_dot(L)"
      ],
      "metadata": {
        "id": "eAsL4OVKNO2d",
        "colab": {
          "base_uri": "https://localhost:8080/",
          "height": 212
        },
        "outputId": "1cfad1db-d4a3-42ce-c846-db1b51c9cbcc"
      },
      "execution_count": 14,
      "outputs": [
        {
          "output_type": "execute_result",
          "data": {
            "image/svg+xml": "<?xml version=\"1.0\" encoding=\"UTF-8\" standalone=\"no\"?>\n<!DOCTYPE svg PUBLIC \"-//W3C//DTD SVG 1.1//EN\"\n \"http://www.w3.org/Graphics/SVG/1.1/DTD/svg11.dtd\">\n<!-- Generated by graphviz version 2.43.0 (0)\n -->\n<!-- Title: %3 Pages: 1 -->\n<svg width=\"1158pt\" height=\"128pt\"\n viewBox=\"0.00 0.00 1158.00 128.00\" xmlns=\"http://www.w3.org/2000/svg\" xmlns:xlink=\"http://www.w3.org/1999/xlink\">\n<g id=\"graph0\" class=\"graph\" transform=\"scale(1 1) rotate(0) translate(4 124)\">\n<title>%3</title>\n<polygon fill=\"white\" stroke=\"transparent\" points=\"-4,4 -4,-124 1154,-124 1154,4 -4,4\"/>\n<!-- 138023557659136 -->\n<g id=\"node1\" class=\"node\">\n<title>138023557659136</title>\n<polygon fill=\"none\" stroke=\"black\" points=\"314.5,-83.5 314.5,-119.5 499.5,-119.5 499.5,-83.5 314.5,-83.5\"/>\n<text text-anchor=\"middle\" x=\"326\" y=\"-97.8\" font-family=\"Times,serif\" font-size=\"14.00\">c</text>\n<polyline fill=\"none\" stroke=\"black\" points=\"337.5,-83.5 337.5,-119.5 \"/>\n<text text-anchor=\"middle\" x=\"377.5\" y=\"-97.8\" font-family=\"Times,serif\" font-size=\"14.00\">data 8.0000</text>\n<polyline fill=\"none\" stroke=\"black\" points=\"417.5,-83.5 417.5,-119.5 \"/>\n<text text-anchor=\"middle\" x=\"458.5\" y=\"-97.8\" font-family=\"Times,serif\" font-size=\"14.00\">grad 0.0000</text>\n</g>\n<!-- 138023557646944+ -->\n<g id=\"node3\" class=\"node\">\n<title>138023557646944+</title>\n<ellipse fill=\"none\" stroke=\"black\" cx=\"566\" cy=\"-73.5\" rx=\"27\" ry=\"18\"/>\n<text text-anchor=\"middle\" x=\"566\" y=\"-69.8\" font-family=\"Times,serif\" font-size=\"14.00\">+</text>\n</g>\n<!-- 138023557659136&#45;&gt;138023557646944+ -->\n<g id=\"edge5\" class=\"edge\">\n<title>138023557659136&#45;&gt;138023557646944+</title>\n<path fill=\"none\" stroke=\"black\" d=\"M499.78,-85.13C510.3,-83.26 520.48,-81.44 529.56,-79.82\"/>\n<polygon fill=\"black\" stroke=\"black\" points=\"530.42,-83.22 539.65,-78.02 529.19,-76.33 530.42,-83.22\"/>\n</g>\n<!-- 138023557646944 -->\n<g id=\"node2\" class=\"node\">\n<title>138023557646944</title>\n<polygon fill=\"none\" stroke=\"black\" points=\"629,-55.5 629,-91.5 825,-91.5 825,-55.5 629,-55.5\"/>\n<text text-anchor=\"middle\" x=\"640.5\" y=\"-69.8\" font-family=\"Times,serif\" font-size=\"14.00\">d</text>\n<polyline fill=\"none\" stroke=\"black\" points=\"652,-55.5 652,-91.5 \"/>\n<text text-anchor=\"middle\" x=\"695.5\" y=\"-69.8\" font-family=\"Times,serif\" font-size=\"14.00\">data 23.0000</text>\n<polyline fill=\"none\" stroke=\"black\" points=\"739,-55.5 739,-91.5 \"/>\n<text text-anchor=\"middle\" x=\"782\" y=\"-69.8\" font-family=\"Times,serif\" font-size=\"14.00\">grad &#45;2.0000</text>\n</g>\n<!-- 138023557645024* -->\n<g id=\"node7\" class=\"node\">\n<title>138023557645024*</title>\n<ellipse fill=\"none\" stroke=\"black\" cx=\"888\" cy=\"-45.5\" rx=\"27\" ry=\"18\"/>\n<text text-anchor=\"middle\" x=\"888\" y=\"-41.8\" font-family=\"Times,serif\" font-size=\"14.00\">*</text>\n</g>\n<!-- 138023557646944&#45;&gt;138023557645024* -->\n<g id=\"edge4\" class=\"edge\">\n<title>138023557646944&#45;&gt;138023557645024*</title>\n<path fill=\"none\" stroke=\"black\" d=\"M825.07,-56.41C834.42,-54.76 843.43,-53.17 851.55,-51.74\"/>\n<polygon fill=\"black\" stroke=\"black\" points=\"852.41,-55.15 861.65,-49.96 851.2,-48.25 852.41,-55.15\"/>\n</g>\n<!-- 138023557646944+&#45;&gt;138023557646944 -->\n<g id=\"edge1\" class=\"edge\">\n<title>138023557646944+&#45;&gt;138023557646944</title>\n<path fill=\"none\" stroke=\"black\" d=\"M593.26,-73.5C600.77,-73.5 609.46,-73.5 618.72,-73.5\"/>\n<polygon fill=\"black\" stroke=\"black\" points=\"618.97,-77 628.97,-73.5 618.97,-70 618.97,-77\"/>\n</g>\n<!-- 138023557659232 -->\n<g id=\"node4\" class=\"node\">\n<title>138023557659232</title>\n<polygon fill=\"none\" stroke=\"black\" points=\"0,-56.5 0,-92.5 185,-92.5 185,-56.5 0,-56.5\"/>\n<text text-anchor=\"middle\" x=\"11.5\" y=\"-70.8\" font-family=\"Times,serif\" font-size=\"14.00\">b</text>\n<polyline fill=\"none\" stroke=\"black\" points=\"23,-56.5 23,-92.5 \"/>\n<text text-anchor=\"middle\" x=\"63\" y=\"-70.8\" font-family=\"Times,serif\" font-size=\"14.00\">data 5.0000</text>\n<polyline fill=\"none\" stroke=\"black\" points=\"103,-56.5 103,-92.5 \"/>\n<text text-anchor=\"middle\" x=\"144\" y=\"-70.8\" font-family=\"Times,serif\" font-size=\"14.00\">grad 0.0000</text>\n</g>\n<!-- 138023557649152* -->\n<g id=\"node9\" class=\"node\">\n<title>138023557649152*</title>\n<ellipse fill=\"none\" stroke=\"black\" cx=\"248\" cy=\"-46.5\" rx=\"27\" ry=\"18\"/>\n<text text-anchor=\"middle\" x=\"248\" y=\"-42.8\" font-family=\"Times,serif\" font-size=\"14.00\">*</text>\n</g>\n<!-- 138023557659232&#45;&gt;138023557649152* -->\n<g id=\"edge8\" class=\"edge\">\n<title>138023557659232&#45;&gt;138023557649152*</title>\n<path fill=\"none\" stroke=\"black\" d=\"M185.01,-57.81C194.49,-56.08 203.66,-54.41 211.9,-52.9\"/>\n<polygon fill=\"black\" stroke=\"black\" points=\"212.6,-56.33 221.81,-51.09 211.35,-49.45 212.6,-56.33\"/>\n</g>\n<!-- 138023557655200 -->\n<g id=\"node5\" class=\"node\">\n<title>138023557655200</title>\n<polygon fill=\"none\" stroke=\"black\" points=\"0,-1.5 0,-37.5 185,-37.5 185,-1.5 0,-1.5\"/>\n<text text-anchor=\"middle\" x=\"11.5\" y=\"-15.8\" font-family=\"Times,serif\" font-size=\"14.00\">a</text>\n<polyline fill=\"none\" stroke=\"black\" points=\"23,-1.5 23,-37.5 \"/>\n<text text-anchor=\"middle\" x=\"63\" y=\"-15.8\" font-family=\"Times,serif\" font-size=\"14.00\">data 3.0000</text>\n<polyline fill=\"none\" stroke=\"black\" points=\"103,-1.5 103,-37.5 \"/>\n<text text-anchor=\"middle\" x=\"144\" y=\"-15.8\" font-family=\"Times,serif\" font-size=\"14.00\">grad 0.0000</text>\n</g>\n<!-- 138023557655200&#45;&gt;138023557649152* -->\n<g id=\"edge6\" class=\"edge\">\n<title>138023557655200&#45;&gt;138023557649152*</title>\n<path fill=\"none\" stroke=\"black\" d=\"M185.01,-35.6C194.49,-37.26 203.66,-38.88 211.9,-40.33\"/>\n<polygon fill=\"black\" stroke=\"black\" points=\"211.36,-43.78 221.81,-42.07 212.57,-36.89 211.36,-43.78\"/>\n</g>\n<!-- 138023557645024 -->\n<g id=\"node6\" class=\"node\">\n<title>138023557645024</title>\n<polygon fill=\"none\" stroke=\"black\" points=\"951,-27.5 951,-63.5 1150,-63.5 1150,-27.5 951,-27.5\"/>\n<text text-anchor=\"middle\" x=\"963.5\" y=\"-41.8\" font-family=\"Times,serif\" font-size=\"14.00\">L</text>\n<polyline fill=\"none\" stroke=\"black\" points=\"976,-27.5 976,-63.5 \"/>\n<text text-anchor=\"middle\" x=\"1022\" y=\"-41.8\" font-family=\"Times,serif\" font-size=\"14.00\">data &#45;46.0000</text>\n<polyline fill=\"none\" stroke=\"black\" points=\"1068,-27.5 1068,-63.5 \"/>\n<text text-anchor=\"middle\" x=\"1109\" y=\"-41.8\" font-family=\"Times,serif\" font-size=\"14.00\">grad 1.0000</text>\n</g>\n<!-- 138023557645024*&#45;&gt;138023557645024 -->\n<g id=\"edge2\" class=\"edge\">\n<title>138023557645024*&#45;&gt;138023557645024</title>\n<path fill=\"none\" stroke=\"black\" d=\"M915.14,-45.5C922.65,-45.5 931.33,-45.5 940.6,-45.5\"/>\n<polygon fill=\"black\" stroke=\"black\" points=\"940.86,-49 950.86,-45.5 940.86,-42 940.86,-49\"/>\n</g>\n<!-- 138023557649152 -->\n<g id=\"node8\" class=\"node\">\n<title>138023557649152</title>\n<polygon fill=\"none\" stroke=\"black\" points=\"311,-28.5 311,-64.5 503,-64.5 503,-28.5 311,-28.5\"/>\n<text text-anchor=\"middle\" x=\"322.5\" y=\"-42.8\" font-family=\"Times,serif\" font-size=\"14.00\">e</text>\n<polyline fill=\"none\" stroke=\"black\" points=\"334,-28.5 334,-64.5 \"/>\n<text text-anchor=\"middle\" x=\"377.5\" y=\"-42.8\" font-family=\"Times,serif\" font-size=\"14.00\">data 15.0000</text>\n<polyline fill=\"none\" stroke=\"black\" points=\"421,-28.5 421,-64.5 \"/>\n<text text-anchor=\"middle\" x=\"462\" y=\"-42.8\" font-family=\"Times,serif\" font-size=\"14.00\">grad 0.0000</text>\n</g>\n<!-- 138023557649152&#45;&gt;138023557646944+ -->\n<g id=\"edge7\" class=\"edge\">\n<title>138023557649152&#45;&gt;138023557646944+</title>\n<path fill=\"none\" stroke=\"black\" d=\"M503.4,-62.91C512.69,-64.5 521.64,-66.04 529.71,-67.43\"/>\n<polygon fill=\"black\" stroke=\"black\" points=\"529.32,-70.91 539.76,-69.16 530.5,-64.02 529.32,-70.91\"/>\n</g>\n<!-- 138023557649152*&#45;&gt;138023557649152 -->\n<g id=\"edge3\" class=\"edge\">\n<title>138023557649152*&#45;&gt;138023557649152</title>\n<path fill=\"none\" stroke=\"black\" d=\"M275.28,-46.5C282.78,-46.5 291.44,-46.5 300.67,-46.5\"/>\n<polygon fill=\"black\" stroke=\"black\" points=\"300.87,-50 310.87,-46.5 300.87,-43 300.87,-50\"/>\n</g>\n<!-- 138023557647808 -->\n<g id=\"node10\" class=\"node\">\n<title>138023557647808</title>\n<polygon fill=\"none\" stroke=\"black\" points=\"629.5,-0.5 629.5,-36.5 824.5,-36.5 824.5,-0.5 629.5,-0.5\"/>\n<text text-anchor=\"middle\" x=\"640\" y=\"-14.8\" font-family=\"Times,serif\" font-size=\"14.00\">f</text>\n<polyline fill=\"none\" stroke=\"black\" points=\"650.5,-0.5 650.5,-36.5 \"/>\n<text text-anchor=\"middle\" x=\"693\" y=\"-14.8\" font-family=\"Times,serif\" font-size=\"14.00\">data &#45;2.0000</text>\n<polyline fill=\"none\" stroke=\"black\" points=\"735.5,-0.5 735.5,-36.5 \"/>\n<text text-anchor=\"middle\" x=\"780\" y=\"-14.8\" font-family=\"Times,serif\" font-size=\"14.00\">grad 23.0000</text>\n</g>\n<!-- 138023557647808&#45;&gt;138023557645024* -->\n<g id=\"edge9\" class=\"edge\">\n<title>138023557647808&#45;&gt;138023557645024*</title>\n<path fill=\"none\" stroke=\"black\" d=\"M824.62,-34.91C834.22,-36.54 843.47,-38.11 851.77,-39.52\"/>\n<polygon fill=\"black\" stroke=\"black\" points=\"851.3,-42.99 861.74,-41.21 852.47,-36.09 851.3,-42.99\"/>\n</g>\n</g>\n</svg>\n",
            "text/plain": [
              "<graphviz.graphs.Digraph at 0x7d881c0dbf10>"
            ]
          },
          "metadata": {},
          "execution_count": 14
        }
      ]
    },
    {
      "cell_type": "markdown",
      "source": [
        "d & f , derivatives\n",
        "\n",
        "L = d * f\n",
        "\n",
        "dL/dd = f  because,\n",
        "\n",
        "(f(x+h) - f(x))/h\n",
        "\n",
        "substitute x with d\n",
        "\n",
        "((d+h)*f - d*f)/h\n",
        "\n",
        "(df+ + hf - df )/h\n",
        "\n",
        "=> hf/h => f\n",
        "\n",
        "\n",
        "therefore\n",
        "dL/dd = f\n",
        "dF/dL = d (opposite)"
      ],
      "metadata": {
        "id": "a7WY_8hg8pg7"
      }
    },
    {
      "cell_type": "code",
      "source": [
        "# grad of f will be d & grad of d will be d\n",
        "\n",
        "f.grad = 23.0\n",
        "d.grad = -2.0\n",
        "draw_dot(L)"
      ],
      "metadata": {
        "colab": {
          "base_uri": "https://localhost:8080/",
          "height": 212
        },
        "id": "WgXVUBhEAOaM",
        "outputId": "efea52aa-869e-4428-bb9b-ba3f650d95cd"
      },
      "execution_count": 11,
      "outputs": [
        {
          "output_type": "execute_result",
          "data": {
            "image/svg+xml": "<?xml version=\"1.0\" encoding=\"UTF-8\" standalone=\"no\"?>\n<!DOCTYPE svg PUBLIC \"-//W3C//DTD SVG 1.1//EN\"\n \"http://www.w3.org/Graphics/SVG/1.1/DTD/svg11.dtd\">\n<!-- Generated by graphviz version 2.43.0 (0)\n -->\n<!-- Title: %3 Pages: 1 -->\n<svg width=\"1158pt\" height=\"128pt\"\n viewBox=\"0.00 0.00 1158.00 128.00\" xmlns=\"http://www.w3.org/2000/svg\" xmlns:xlink=\"http://www.w3.org/1999/xlink\">\n<g id=\"graph0\" class=\"graph\" transform=\"scale(1 1) rotate(0) translate(4 124)\">\n<title>%3</title>\n<polygon fill=\"white\" stroke=\"transparent\" points=\"-4,4 -4,-124 1154,-124 1154,4 -4,4\"/>\n<!-- 138023557659136 -->\n<g id=\"node1\" class=\"node\">\n<title>138023557659136</title>\n<polygon fill=\"none\" stroke=\"black\" points=\"314.5,-83.5 314.5,-119.5 499.5,-119.5 499.5,-83.5 314.5,-83.5\"/>\n<text text-anchor=\"middle\" x=\"326\" y=\"-97.8\" font-family=\"Times,serif\" font-size=\"14.00\">c</text>\n<polyline fill=\"none\" stroke=\"black\" points=\"337.5,-83.5 337.5,-119.5 \"/>\n<text text-anchor=\"middle\" x=\"377.5\" y=\"-97.8\" font-family=\"Times,serif\" font-size=\"14.00\">data 8.0000</text>\n<polyline fill=\"none\" stroke=\"black\" points=\"417.5,-83.5 417.5,-119.5 \"/>\n<text text-anchor=\"middle\" x=\"458.5\" y=\"-97.8\" font-family=\"Times,serif\" font-size=\"14.00\">grad 0.0000</text>\n</g>\n<!-- 138023557646944+ -->\n<g id=\"node3\" class=\"node\">\n<title>138023557646944+</title>\n<ellipse fill=\"none\" stroke=\"black\" cx=\"566\" cy=\"-73.5\" rx=\"27\" ry=\"18\"/>\n<text text-anchor=\"middle\" x=\"566\" y=\"-69.8\" font-family=\"Times,serif\" font-size=\"14.00\">+</text>\n</g>\n<!-- 138023557659136&#45;&gt;138023557646944+ -->\n<g id=\"edge5\" class=\"edge\">\n<title>138023557659136&#45;&gt;138023557646944+</title>\n<path fill=\"none\" stroke=\"black\" d=\"M499.78,-85.13C510.3,-83.26 520.48,-81.44 529.56,-79.82\"/>\n<polygon fill=\"black\" stroke=\"black\" points=\"530.42,-83.22 539.65,-78.02 529.19,-76.33 530.42,-83.22\"/>\n</g>\n<!-- 138023557646944 -->\n<g id=\"node2\" class=\"node\">\n<title>138023557646944</title>\n<polygon fill=\"none\" stroke=\"black\" points=\"629,-55.5 629,-91.5 825,-91.5 825,-55.5 629,-55.5\"/>\n<text text-anchor=\"middle\" x=\"640.5\" y=\"-69.8\" font-family=\"Times,serif\" font-size=\"14.00\">d</text>\n<polyline fill=\"none\" stroke=\"black\" points=\"652,-55.5 652,-91.5 \"/>\n<text text-anchor=\"middle\" x=\"695.5\" y=\"-69.8\" font-family=\"Times,serif\" font-size=\"14.00\">data 23.0000</text>\n<polyline fill=\"none\" stroke=\"black\" points=\"739,-55.5 739,-91.5 \"/>\n<text text-anchor=\"middle\" x=\"782\" y=\"-69.8\" font-family=\"Times,serif\" font-size=\"14.00\">grad &#45;2.0000</text>\n</g>\n<!-- 138023557645024* -->\n<g id=\"node7\" class=\"node\">\n<title>138023557645024*</title>\n<ellipse fill=\"none\" stroke=\"black\" cx=\"888\" cy=\"-45.5\" rx=\"27\" ry=\"18\"/>\n<text text-anchor=\"middle\" x=\"888\" y=\"-41.8\" font-family=\"Times,serif\" font-size=\"14.00\">*</text>\n</g>\n<!-- 138023557646944&#45;&gt;138023557645024* -->\n<g id=\"edge4\" class=\"edge\">\n<title>138023557646944&#45;&gt;138023557645024*</title>\n<path fill=\"none\" stroke=\"black\" d=\"M825.07,-56.41C834.42,-54.76 843.43,-53.17 851.55,-51.74\"/>\n<polygon fill=\"black\" stroke=\"black\" points=\"852.41,-55.15 861.65,-49.96 851.2,-48.25 852.41,-55.15\"/>\n</g>\n<!-- 138023557646944+&#45;&gt;138023557646944 -->\n<g id=\"edge1\" class=\"edge\">\n<title>138023557646944+&#45;&gt;138023557646944</title>\n<path fill=\"none\" stroke=\"black\" d=\"M593.26,-73.5C600.77,-73.5 609.46,-73.5 618.72,-73.5\"/>\n<polygon fill=\"black\" stroke=\"black\" points=\"618.97,-77 628.97,-73.5 618.97,-70 618.97,-77\"/>\n</g>\n<!-- 138023557659232 -->\n<g id=\"node4\" class=\"node\">\n<title>138023557659232</title>\n<polygon fill=\"none\" stroke=\"black\" points=\"0,-56.5 0,-92.5 185,-92.5 185,-56.5 0,-56.5\"/>\n<text text-anchor=\"middle\" x=\"11.5\" y=\"-70.8\" font-family=\"Times,serif\" font-size=\"14.00\">b</text>\n<polyline fill=\"none\" stroke=\"black\" points=\"23,-56.5 23,-92.5 \"/>\n<text text-anchor=\"middle\" x=\"63\" y=\"-70.8\" font-family=\"Times,serif\" font-size=\"14.00\">data 5.0000</text>\n<polyline fill=\"none\" stroke=\"black\" points=\"103,-56.5 103,-92.5 \"/>\n<text text-anchor=\"middle\" x=\"144\" y=\"-70.8\" font-family=\"Times,serif\" font-size=\"14.00\">grad 0.0000</text>\n</g>\n<!-- 138023557649152* -->\n<g id=\"node9\" class=\"node\">\n<title>138023557649152*</title>\n<ellipse fill=\"none\" stroke=\"black\" cx=\"248\" cy=\"-46.5\" rx=\"27\" ry=\"18\"/>\n<text text-anchor=\"middle\" x=\"248\" y=\"-42.8\" font-family=\"Times,serif\" font-size=\"14.00\">*</text>\n</g>\n<!-- 138023557659232&#45;&gt;138023557649152* -->\n<g id=\"edge8\" class=\"edge\">\n<title>138023557659232&#45;&gt;138023557649152*</title>\n<path fill=\"none\" stroke=\"black\" d=\"M185.01,-57.81C194.49,-56.08 203.66,-54.41 211.9,-52.9\"/>\n<polygon fill=\"black\" stroke=\"black\" points=\"212.6,-56.33 221.81,-51.09 211.35,-49.45 212.6,-56.33\"/>\n</g>\n<!-- 138023557655200 -->\n<g id=\"node5\" class=\"node\">\n<title>138023557655200</title>\n<polygon fill=\"none\" stroke=\"black\" points=\"0,-1.5 0,-37.5 185,-37.5 185,-1.5 0,-1.5\"/>\n<text text-anchor=\"middle\" x=\"11.5\" y=\"-15.8\" font-family=\"Times,serif\" font-size=\"14.00\">a</text>\n<polyline fill=\"none\" stroke=\"black\" points=\"23,-1.5 23,-37.5 \"/>\n<text text-anchor=\"middle\" x=\"63\" y=\"-15.8\" font-family=\"Times,serif\" font-size=\"14.00\">data 3.0000</text>\n<polyline fill=\"none\" stroke=\"black\" points=\"103,-1.5 103,-37.5 \"/>\n<text text-anchor=\"middle\" x=\"144\" y=\"-15.8\" font-family=\"Times,serif\" font-size=\"14.00\">grad 0.0000</text>\n</g>\n<!-- 138023557655200&#45;&gt;138023557649152* -->\n<g id=\"edge6\" class=\"edge\">\n<title>138023557655200&#45;&gt;138023557649152*</title>\n<path fill=\"none\" stroke=\"black\" d=\"M185.01,-35.6C194.49,-37.26 203.66,-38.88 211.9,-40.33\"/>\n<polygon fill=\"black\" stroke=\"black\" points=\"211.36,-43.78 221.81,-42.07 212.57,-36.89 211.36,-43.78\"/>\n</g>\n<!-- 138023557645024 -->\n<g id=\"node6\" class=\"node\">\n<title>138023557645024</title>\n<polygon fill=\"none\" stroke=\"black\" points=\"951,-27.5 951,-63.5 1150,-63.5 1150,-27.5 951,-27.5\"/>\n<text text-anchor=\"middle\" x=\"963.5\" y=\"-41.8\" font-family=\"Times,serif\" font-size=\"14.00\">L</text>\n<polyline fill=\"none\" stroke=\"black\" points=\"976,-27.5 976,-63.5 \"/>\n<text text-anchor=\"middle\" x=\"1022\" y=\"-41.8\" font-family=\"Times,serif\" font-size=\"14.00\">data &#45;46.0000</text>\n<polyline fill=\"none\" stroke=\"black\" points=\"1068,-27.5 1068,-63.5 \"/>\n<text text-anchor=\"middle\" x=\"1109\" y=\"-41.8\" font-family=\"Times,serif\" font-size=\"14.00\">grad 1.0000</text>\n</g>\n<!-- 138023557645024*&#45;&gt;138023557645024 -->\n<g id=\"edge2\" class=\"edge\">\n<title>138023557645024*&#45;&gt;138023557645024</title>\n<path fill=\"none\" stroke=\"black\" d=\"M915.14,-45.5C922.65,-45.5 931.33,-45.5 940.6,-45.5\"/>\n<polygon fill=\"black\" stroke=\"black\" points=\"940.86,-49 950.86,-45.5 940.86,-42 940.86,-49\"/>\n</g>\n<!-- 138023557649152 -->\n<g id=\"node8\" class=\"node\">\n<title>138023557649152</title>\n<polygon fill=\"none\" stroke=\"black\" points=\"311,-28.5 311,-64.5 503,-64.5 503,-28.5 311,-28.5\"/>\n<text text-anchor=\"middle\" x=\"322.5\" y=\"-42.8\" font-family=\"Times,serif\" font-size=\"14.00\">e</text>\n<polyline fill=\"none\" stroke=\"black\" points=\"334,-28.5 334,-64.5 \"/>\n<text text-anchor=\"middle\" x=\"377.5\" y=\"-42.8\" font-family=\"Times,serif\" font-size=\"14.00\">data 15.0000</text>\n<polyline fill=\"none\" stroke=\"black\" points=\"421,-28.5 421,-64.5 \"/>\n<text text-anchor=\"middle\" x=\"462\" y=\"-42.8\" font-family=\"Times,serif\" font-size=\"14.00\">grad 0.0000</text>\n</g>\n<!-- 138023557649152&#45;&gt;138023557646944+ -->\n<g id=\"edge7\" class=\"edge\">\n<title>138023557649152&#45;&gt;138023557646944+</title>\n<path fill=\"none\" stroke=\"black\" d=\"M503.4,-62.91C512.69,-64.5 521.64,-66.04 529.71,-67.43\"/>\n<polygon fill=\"black\" stroke=\"black\" points=\"529.32,-70.91 539.76,-69.16 530.5,-64.02 529.32,-70.91\"/>\n</g>\n<!-- 138023557649152*&#45;&gt;138023557649152 -->\n<g id=\"edge3\" class=\"edge\">\n<title>138023557649152*&#45;&gt;138023557649152</title>\n<path fill=\"none\" stroke=\"black\" d=\"M275.28,-46.5C282.78,-46.5 291.44,-46.5 300.67,-46.5\"/>\n<polygon fill=\"black\" stroke=\"black\" points=\"300.87,-50 310.87,-46.5 300.87,-43 300.87,-50\"/>\n</g>\n<!-- 138023557647808 -->\n<g id=\"node10\" class=\"node\">\n<title>138023557647808</title>\n<polygon fill=\"none\" stroke=\"black\" points=\"629.5,-0.5 629.5,-36.5 824.5,-36.5 824.5,-0.5 629.5,-0.5\"/>\n<text text-anchor=\"middle\" x=\"640\" y=\"-14.8\" font-family=\"Times,serif\" font-size=\"14.00\">f</text>\n<polyline fill=\"none\" stroke=\"black\" points=\"650.5,-0.5 650.5,-36.5 \"/>\n<text text-anchor=\"middle\" x=\"693\" y=\"-14.8\" font-family=\"Times,serif\" font-size=\"14.00\">data &#45;2.0000</text>\n<polyline fill=\"none\" stroke=\"black\" points=\"735.5,-0.5 735.5,-36.5 \"/>\n<text text-anchor=\"middle\" x=\"780\" y=\"-14.8\" font-family=\"Times,serif\" font-size=\"14.00\">grad 23.0000</text>\n</g>\n<!-- 138023557647808&#45;&gt;138023557645024* -->\n<g id=\"edge9\" class=\"edge\">\n<title>138023557647808&#45;&gt;138023557645024*</title>\n<path fill=\"none\" stroke=\"black\" d=\"M824.62,-34.91C834.22,-36.54 843.47,-38.11 851.77,-39.52\"/>\n<polygon fill=\"black\" stroke=\"black\" points=\"851.3,-42.99 861.74,-41.21 852.47,-36.09 851.3,-42.99\"/>\n</g>\n</g>\n</svg>\n",
            "text/plain": [
              "<graphviz.graphs.Digraph at 0x7d881c0da950>"
            ]
          },
          "metadata": {},
          "execution_count": 11
        }
      ]
    },
    {
      "cell_type": "markdown",
      "source": [
        "### Crux of Backpropagation\n",
        "\n",
        "#### The Important gradient to understand (c, e)\n",
        "\n",
        "#### By understanding this, You will understand most of the backprogatation and the training of Neural Nets :)\n",
        "we need to find the gradient of c & e wrt to L\n",
        "\n",
        " - so we already know how d & f wrt L\n",
        "\n",
        " - and we can similarily find c & e wrt d\n",
        "\n",
        "So somehow if we can link these 2, then we can find how  c &e wrt L"
      ],
      "metadata": {
        "id": "E_Fre53VCYad"
      }
    },
    {
      "cell_type": "markdown",
      "source": [
        " # dL/dc"
      ],
      "metadata": {
        "id": "weBBnNwYGWkf"
      }
    },
    {
      "cell_type": "markdown",
      "source": [
        "\n",
        "\n",
        "#### Step 1 : dd/dc & dd/de\n",
        "\n",
        "1) d.d/dc\n",
        "\n",
        "d = c + e\n",
        "\n",
        "=> d. (c + e)/dc\n",
        "\n",
        "  solving:\n",
        "\n",
        "    (f(x+h) -f(x) )/h\n",
        "    => c+e +h  - (c+e) /h\n",
        "    => c+e+h -c -e /h\n",
        "    =>  h/h\n",
        "    => 1\n",
        "\n",
        "=> 1.0\n",
        "\n",
        "ie, d.d/dc = 1.0\n",
        "\n",
        "llly,\n",
        "2) d.c/de  = 1.0\n",
        "\n",
        "\n",
        "### We can call these as local derivatives"
      ],
      "metadata": {
        "id": "ceesi4kNDvUV"
      }
    },
    {
      "cell_type": "markdown",
      "source": [
        " #### Step 2 : Chain Rule in calcus\n",
        "\n",
        " now we know, dl/dd, dd/dc, dd/de\n",
        "\n",
        " by chain rule in calculus\n",
        "\n",
        " ## dz/dx =  dz/dy * dy/dx\n",
        "\n",
        " a car travels 4 times faster than a cycle\n",
        "\n",
        " cycle travels 2 times faster than a walking man\n",
        "\n",
        " then : car travels (4*2) 8 times faster than a walking man\n",
        "\n"
      ],
      "metadata": {
        "id": "fXhZZtHKGPjy"
      }
    },
    {
      "cell_type": "markdown",
      "source": [
        "WANT:\n",
        "\n",
        "dL/dc\n",
        "\n",
        "\n",
        "KNOW:\n",
        "\n",
        "dL/dd = -2\n",
        "\n",
        "dd/dc = 1.0\n",
        "\n",
        "dL/dc = dL/dd * dd/dc\n",
        "\n",
        "gradient of c will be 1 * -2 = -2\n",
        "      \n",
        "\n"
      ],
      "metadata": {
        "id": "t5lCsGwAHuGr"
      }
    },
    {
      "cell_type": "code",
      "source": [
        "c.grad = -2.0\n",
        "e.grad = -2.0\n",
        "draw_dot(L)"
      ],
      "metadata": {
        "colab": {
          "base_uri": "https://localhost:8080/",
          "height": 212
        },
        "id": "OumDiG3mIn7d",
        "outputId": "0f98f305-df4f-4130-fe2e-8cdb5a28e6fb"
      },
      "execution_count": 16,
      "outputs": [
        {
          "output_type": "execute_result",
          "data": {
            "image/svg+xml": "<?xml version=\"1.0\" encoding=\"UTF-8\" standalone=\"no\"?>\n<!DOCTYPE svg PUBLIC \"-//W3C//DTD SVG 1.1//EN\"\n \"http://www.w3.org/Graphics/SVG/1.1/DTD/svg11.dtd\">\n<!-- Generated by graphviz version 2.43.0 (0)\n -->\n<!-- Title: %3 Pages: 1 -->\n<svg width=\"1162pt\" height=\"128pt\"\n viewBox=\"0.00 0.00 1162.00 128.00\" xmlns=\"http://www.w3.org/2000/svg\" xmlns:xlink=\"http://www.w3.org/1999/xlink\">\n<g id=\"graph0\" class=\"graph\" transform=\"scale(1 1) rotate(0) translate(4 124)\">\n<title>%3</title>\n<polygon fill=\"white\" stroke=\"transparent\" points=\"-4,4 -4,-124 1158,-124 1158,4 -4,4\"/>\n<!-- 138023557659136 -->\n<g id=\"node1\" class=\"node\">\n<title>138023557659136</title>\n<polygon fill=\"none\" stroke=\"black\" points=\"314.5,-83.5 314.5,-119.5 503.5,-119.5 503.5,-83.5 314.5,-83.5\"/>\n<text text-anchor=\"middle\" x=\"326\" y=\"-97.8\" font-family=\"Times,serif\" font-size=\"14.00\">c</text>\n<polyline fill=\"none\" stroke=\"black\" points=\"337.5,-83.5 337.5,-119.5 \"/>\n<text text-anchor=\"middle\" x=\"377.5\" y=\"-97.8\" font-family=\"Times,serif\" font-size=\"14.00\">data 8.0000</text>\n<polyline fill=\"none\" stroke=\"black\" points=\"417.5,-83.5 417.5,-119.5 \"/>\n<text text-anchor=\"middle\" x=\"460.5\" y=\"-97.8\" font-family=\"Times,serif\" font-size=\"14.00\">grad &#45;2.0000</text>\n</g>\n<!-- 138023557646944+ -->\n<g id=\"node3\" class=\"node\">\n<title>138023557646944+</title>\n<ellipse fill=\"none\" stroke=\"black\" cx=\"570\" cy=\"-73.5\" rx=\"27\" ry=\"18\"/>\n<text text-anchor=\"middle\" x=\"570\" y=\"-69.8\" font-family=\"Times,serif\" font-size=\"14.00\">+</text>\n</g>\n<!-- 138023557659136&#45;&gt;138023557646944+ -->\n<g id=\"edge5\" class=\"edge\">\n<title>138023557659136&#45;&gt;138023557646944+</title>\n<path fill=\"none\" stroke=\"black\" d=\"M503.87,-84.97C514.4,-83.11 524.59,-81.32 533.66,-79.72\"/>\n<polygon fill=\"black\" stroke=\"black\" points=\"534.49,-83.13 543.74,-77.95 533.28,-76.24 534.49,-83.13\"/>\n</g>\n<!-- 138023557646944 -->\n<g id=\"node2\" class=\"node\">\n<title>138023557646944</title>\n<polygon fill=\"none\" stroke=\"black\" points=\"633,-55.5 633,-91.5 829,-91.5 829,-55.5 633,-55.5\"/>\n<text text-anchor=\"middle\" x=\"644.5\" y=\"-69.8\" font-family=\"Times,serif\" font-size=\"14.00\">d</text>\n<polyline fill=\"none\" stroke=\"black\" points=\"656,-55.5 656,-91.5 \"/>\n<text text-anchor=\"middle\" x=\"699.5\" y=\"-69.8\" font-family=\"Times,serif\" font-size=\"14.00\">data 23.0000</text>\n<polyline fill=\"none\" stroke=\"black\" points=\"743,-55.5 743,-91.5 \"/>\n<text text-anchor=\"middle\" x=\"786\" y=\"-69.8\" font-family=\"Times,serif\" font-size=\"14.00\">grad &#45;2.0000</text>\n</g>\n<!-- 138023557645024* -->\n<g id=\"node7\" class=\"node\">\n<title>138023557645024*</title>\n<ellipse fill=\"none\" stroke=\"black\" cx=\"892\" cy=\"-45.5\" rx=\"27\" ry=\"18\"/>\n<text text-anchor=\"middle\" x=\"892\" y=\"-41.8\" font-family=\"Times,serif\" font-size=\"14.00\">*</text>\n</g>\n<!-- 138023557646944&#45;&gt;138023557645024* -->\n<g id=\"edge4\" class=\"edge\">\n<title>138023557646944&#45;&gt;138023557645024*</title>\n<path fill=\"none\" stroke=\"black\" d=\"M829.07,-56.41C838.42,-54.76 847.43,-53.17 855.55,-51.74\"/>\n<polygon fill=\"black\" stroke=\"black\" points=\"856.41,-55.15 865.65,-49.96 855.2,-48.25 856.41,-55.15\"/>\n</g>\n<!-- 138023557646944+&#45;&gt;138023557646944 -->\n<g id=\"edge1\" class=\"edge\">\n<title>138023557646944+&#45;&gt;138023557646944</title>\n<path fill=\"none\" stroke=\"black\" d=\"M597.26,-73.5C604.77,-73.5 613.46,-73.5 622.72,-73.5\"/>\n<polygon fill=\"black\" stroke=\"black\" points=\"622.97,-77 632.97,-73.5 622.97,-70 622.97,-77\"/>\n</g>\n<!-- 138023557659232 -->\n<g id=\"node4\" class=\"node\">\n<title>138023557659232</title>\n<polygon fill=\"none\" stroke=\"black\" points=\"0,-56.5 0,-92.5 185,-92.5 185,-56.5 0,-56.5\"/>\n<text text-anchor=\"middle\" x=\"11.5\" y=\"-70.8\" font-family=\"Times,serif\" font-size=\"14.00\">b</text>\n<polyline fill=\"none\" stroke=\"black\" points=\"23,-56.5 23,-92.5 \"/>\n<text text-anchor=\"middle\" x=\"63\" y=\"-70.8\" font-family=\"Times,serif\" font-size=\"14.00\">data 5.0000</text>\n<polyline fill=\"none\" stroke=\"black\" points=\"103,-56.5 103,-92.5 \"/>\n<text text-anchor=\"middle\" x=\"144\" y=\"-70.8\" font-family=\"Times,serif\" font-size=\"14.00\">grad 0.0000</text>\n</g>\n<!-- 138023557649152* -->\n<g id=\"node9\" class=\"node\">\n<title>138023557649152*</title>\n<ellipse fill=\"none\" stroke=\"black\" cx=\"248\" cy=\"-46.5\" rx=\"27\" ry=\"18\"/>\n<text text-anchor=\"middle\" x=\"248\" y=\"-42.8\" font-family=\"Times,serif\" font-size=\"14.00\">*</text>\n</g>\n<!-- 138023557659232&#45;&gt;138023557649152* -->\n<g id=\"edge8\" class=\"edge\">\n<title>138023557659232&#45;&gt;138023557649152*</title>\n<path fill=\"none\" stroke=\"black\" d=\"M185.01,-57.81C194.49,-56.08 203.66,-54.41 211.9,-52.9\"/>\n<polygon fill=\"black\" stroke=\"black\" points=\"212.6,-56.33 221.81,-51.09 211.35,-49.45 212.6,-56.33\"/>\n</g>\n<!-- 138023557655200 -->\n<g id=\"node5\" class=\"node\">\n<title>138023557655200</title>\n<polygon fill=\"none\" stroke=\"black\" points=\"0,-1.5 0,-37.5 185,-37.5 185,-1.5 0,-1.5\"/>\n<text text-anchor=\"middle\" x=\"11.5\" y=\"-15.8\" font-family=\"Times,serif\" font-size=\"14.00\">a</text>\n<polyline fill=\"none\" stroke=\"black\" points=\"23,-1.5 23,-37.5 \"/>\n<text text-anchor=\"middle\" x=\"63\" y=\"-15.8\" font-family=\"Times,serif\" font-size=\"14.00\">data 3.0000</text>\n<polyline fill=\"none\" stroke=\"black\" points=\"103,-1.5 103,-37.5 \"/>\n<text text-anchor=\"middle\" x=\"144\" y=\"-15.8\" font-family=\"Times,serif\" font-size=\"14.00\">grad 0.0000</text>\n</g>\n<!-- 138023557655200&#45;&gt;138023557649152* -->\n<g id=\"edge6\" class=\"edge\">\n<title>138023557655200&#45;&gt;138023557649152*</title>\n<path fill=\"none\" stroke=\"black\" d=\"M185.01,-35.6C194.49,-37.26 203.66,-38.88 211.9,-40.33\"/>\n<polygon fill=\"black\" stroke=\"black\" points=\"211.36,-43.78 221.81,-42.07 212.57,-36.89 211.36,-43.78\"/>\n</g>\n<!-- 138023557645024 -->\n<g id=\"node6\" class=\"node\">\n<title>138023557645024</title>\n<polygon fill=\"none\" stroke=\"black\" points=\"955,-27.5 955,-63.5 1154,-63.5 1154,-27.5 955,-27.5\"/>\n<text text-anchor=\"middle\" x=\"967.5\" y=\"-41.8\" font-family=\"Times,serif\" font-size=\"14.00\">L</text>\n<polyline fill=\"none\" stroke=\"black\" points=\"980,-27.5 980,-63.5 \"/>\n<text text-anchor=\"middle\" x=\"1026\" y=\"-41.8\" font-family=\"Times,serif\" font-size=\"14.00\">data &#45;46.0000</text>\n<polyline fill=\"none\" stroke=\"black\" points=\"1072,-27.5 1072,-63.5 \"/>\n<text text-anchor=\"middle\" x=\"1113\" y=\"-41.8\" font-family=\"Times,serif\" font-size=\"14.00\">grad 1.0000</text>\n</g>\n<!-- 138023557645024*&#45;&gt;138023557645024 -->\n<g id=\"edge2\" class=\"edge\">\n<title>138023557645024*&#45;&gt;138023557645024</title>\n<path fill=\"none\" stroke=\"black\" d=\"M919.14,-45.5C926.65,-45.5 935.33,-45.5 944.6,-45.5\"/>\n<polygon fill=\"black\" stroke=\"black\" points=\"944.86,-49 954.86,-45.5 944.86,-42 944.86,-49\"/>\n</g>\n<!-- 138023557649152 -->\n<g id=\"node8\" class=\"node\">\n<title>138023557649152</title>\n<polygon fill=\"none\" stroke=\"black\" points=\"311,-28.5 311,-64.5 507,-64.5 507,-28.5 311,-28.5\"/>\n<text text-anchor=\"middle\" x=\"322.5\" y=\"-42.8\" font-family=\"Times,serif\" font-size=\"14.00\">e</text>\n<polyline fill=\"none\" stroke=\"black\" points=\"334,-28.5 334,-64.5 \"/>\n<text text-anchor=\"middle\" x=\"377.5\" y=\"-42.8\" font-family=\"Times,serif\" font-size=\"14.00\">data 15.0000</text>\n<polyline fill=\"none\" stroke=\"black\" points=\"421,-28.5 421,-64.5 \"/>\n<text text-anchor=\"middle\" x=\"464\" y=\"-42.8\" font-family=\"Times,serif\" font-size=\"14.00\">grad &#45;2.0000</text>\n</g>\n<!-- 138023557649152&#45;&gt;138023557646944+ -->\n<g id=\"edge7\" class=\"edge\">\n<title>138023557649152&#45;&gt;138023557646944+</title>\n<path fill=\"none\" stroke=\"black\" d=\"M507.07,-62.98C516.42,-64.57 525.43,-66.1 533.55,-67.48\"/>\n<polygon fill=\"black\" stroke=\"black\" points=\"533.21,-70.97 543.65,-69.2 534.38,-64.07 533.21,-70.97\"/>\n</g>\n<!-- 138023557649152*&#45;&gt;138023557649152 -->\n<g id=\"edge3\" class=\"edge\">\n<title>138023557649152*&#45;&gt;138023557649152</title>\n<path fill=\"none\" stroke=\"black\" d=\"M275.26,-46.5C282.77,-46.5 291.46,-46.5 300.72,-46.5\"/>\n<polygon fill=\"black\" stroke=\"black\" points=\"300.97,-50 310.97,-46.5 300.97,-43 300.97,-50\"/>\n</g>\n<!-- 138023557647808 -->\n<g id=\"node10\" class=\"node\">\n<title>138023557647808</title>\n<polygon fill=\"none\" stroke=\"black\" points=\"633.5,-0.5 633.5,-36.5 828.5,-36.5 828.5,-0.5 633.5,-0.5\"/>\n<text text-anchor=\"middle\" x=\"644\" y=\"-14.8\" font-family=\"Times,serif\" font-size=\"14.00\">f</text>\n<polyline fill=\"none\" stroke=\"black\" points=\"654.5,-0.5 654.5,-36.5 \"/>\n<text text-anchor=\"middle\" x=\"697\" y=\"-14.8\" font-family=\"Times,serif\" font-size=\"14.00\">data &#45;2.0000</text>\n<polyline fill=\"none\" stroke=\"black\" points=\"739.5,-0.5 739.5,-36.5 \"/>\n<text text-anchor=\"middle\" x=\"784\" y=\"-14.8\" font-family=\"Times,serif\" font-size=\"14.00\">grad 23.0000</text>\n</g>\n<!-- 138023557647808&#45;&gt;138023557645024* -->\n<g id=\"edge9\" class=\"edge\">\n<title>138023557647808&#45;&gt;138023557645024*</title>\n<path fill=\"none\" stroke=\"black\" d=\"M828.62,-34.91C838.22,-36.54 847.47,-38.11 855.77,-39.52\"/>\n<polygon fill=\"black\" stroke=\"black\" points=\"855.3,-42.99 865.74,-41.21 856.47,-36.09 855.3,-42.99\"/>\n</g>\n</g>\n</svg>\n",
            "text/plain": [
              "<graphviz.graphs.Digraph at 0x7d881c0d99f0>"
            ]
          },
          "metadata": {},
          "execution_count": 16
        }
      ]
    },
    {
      "cell_type": "code",
      "source": [
        "# similarily for a , b\n",
        "\n",
        "a.grad = 3.0 * -2.0\n",
        "b.grad = 5.0 * -2.0\n",
        "draw_dot(L)"
      ],
      "metadata": {
        "colab": {
          "base_uri": "https://localhost:8080/",
          "height": 212
        },
        "id": "JUKonZW7JP7Y",
        "outputId": "30139955-a481-4f27-d8b4-406639889c33"
      },
      "execution_count": 17,
      "outputs": [
        {
          "output_type": "execute_result",
          "data": {
            "image/svg+xml": "<?xml version=\"1.0\" encoding=\"UTF-8\" standalone=\"no\"?>\n<!DOCTYPE svg PUBLIC \"-//W3C//DTD SVG 1.1//EN\"\n \"http://www.w3.org/Graphics/SVG/1.1/DTD/svg11.dtd\">\n<!-- Generated by graphviz version 2.43.0 (0)\n -->\n<!-- Title: %3 Pages: 1 -->\n<svg width=\"1173pt\" height=\"128pt\"\n viewBox=\"0.00 0.00 1173.00 128.00\" xmlns=\"http://www.w3.org/2000/svg\" xmlns:xlink=\"http://www.w3.org/1999/xlink\">\n<g id=\"graph0\" class=\"graph\" transform=\"scale(1 1) rotate(0) translate(4 124)\">\n<title>%3</title>\n<polygon fill=\"white\" stroke=\"transparent\" points=\"-4,4 -4,-124 1169,-124 1169,4 -4,4\"/>\n<!-- 138023557659136 -->\n<g id=\"node1\" class=\"node\">\n<title>138023557659136</title>\n<polygon fill=\"none\" stroke=\"black\" points=\"325.5,-83.5 325.5,-119.5 514.5,-119.5 514.5,-83.5 325.5,-83.5\"/>\n<text text-anchor=\"middle\" x=\"337\" y=\"-97.8\" font-family=\"Times,serif\" font-size=\"14.00\">c</text>\n<polyline fill=\"none\" stroke=\"black\" points=\"348.5,-83.5 348.5,-119.5 \"/>\n<text text-anchor=\"middle\" x=\"388.5\" y=\"-97.8\" font-family=\"Times,serif\" font-size=\"14.00\">data 8.0000</text>\n<polyline fill=\"none\" stroke=\"black\" points=\"428.5,-83.5 428.5,-119.5 \"/>\n<text text-anchor=\"middle\" x=\"471.5\" y=\"-97.8\" font-family=\"Times,serif\" font-size=\"14.00\">grad &#45;2.0000</text>\n</g>\n<!-- 138023557646944+ -->\n<g id=\"node3\" class=\"node\">\n<title>138023557646944+</title>\n<ellipse fill=\"none\" stroke=\"black\" cx=\"581\" cy=\"-73.5\" rx=\"27\" ry=\"18\"/>\n<text text-anchor=\"middle\" x=\"581\" y=\"-69.8\" font-family=\"Times,serif\" font-size=\"14.00\">+</text>\n</g>\n<!-- 138023557659136&#45;&gt;138023557646944+ -->\n<g id=\"edge5\" class=\"edge\">\n<title>138023557659136&#45;&gt;138023557646944+</title>\n<path fill=\"none\" stroke=\"black\" d=\"M514.87,-84.97C525.4,-83.11 535.59,-81.32 544.66,-79.72\"/>\n<polygon fill=\"black\" stroke=\"black\" points=\"545.49,-83.13 554.74,-77.95 544.28,-76.24 545.49,-83.13\"/>\n</g>\n<!-- 138023557646944 -->\n<g id=\"node2\" class=\"node\">\n<title>138023557646944</title>\n<polygon fill=\"none\" stroke=\"black\" points=\"644,-55.5 644,-91.5 840,-91.5 840,-55.5 644,-55.5\"/>\n<text text-anchor=\"middle\" x=\"655.5\" y=\"-69.8\" font-family=\"Times,serif\" font-size=\"14.00\">d</text>\n<polyline fill=\"none\" stroke=\"black\" points=\"667,-55.5 667,-91.5 \"/>\n<text text-anchor=\"middle\" x=\"710.5\" y=\"-69.8\" font-family=\"Times,serif\" font-size=\"14.00\">data 23.0000</text>\n<polyline fill=\"none\" stroke=\"black\" points=\"754,-55.5 754,-91.5 \"/>\n<text text-anchor=\"middle\" x=\"797\" y=\"-69.8\" font-family=\"Times,serif\" font-size=\"14.00\">grad &#45;2.0000</text>\n</g>\n<!-- 138023557645024* -->\n<g id=\"node7\" class=\"node\">\n<title>138023557645024*</title>\n<ellipse fill=\"none\" stroke=\"black\" cx=\"903\" cy=\"-45.5\" rx=\"27\" ry=\"18\"/>\n<text text-anchor=\"middle\" x=\"903\" y=\"-41.8\" font-family=\"Times,serif\" font-size=\"14.00\">*</text>\n</g>\n<!-- 138023557646944&#45;&gt;138023557645024* -->\n<g id=\"edge4\" class=\"edge\">\n<title>138023557646944&#45;&gt;138023557645024*</title>\n<path fill=\"none\" stroke=\"black\" d=\"M840.07,-56.41C849.42,-54.76 858.43,-53.17 866.55,-51.74\"/>\n<polygon fill=\"black\" stroke=\"black\" points=\"867.41,-55.15 876.65,-49.96 866.2,-48.25 867.41,-55.15\"/>\n</g>\n<!-- 138023557646944+&#45;&gt;138023557646944 -->\n<g id=\"edge1\" class=\"edge\">\n<title>138023557646944+&#45;&gt;138023557646944</title>\n<path fill=\"none\" stroke=\"black\" d=\"M608.26,-73.5C615.77,-73.5 624.46,-73.5 633.72,-73.5\"/>\n<polygon fill=\"black\" stroke=\"black\" points=\"633.97,-77 643.97,-73.5 633.97,-70 633.97,-77\"/>\n</g>\n<!-- 138023557659232 -->\n<g id=\"node4\" class=\"node\">\n<title>138023557659232</title>\n<polygon fill=\"none\" stroke=\"black\" points=\"0,-56.5 0,-92.5 196,-92.5 196,-56.5 0,-56.5\"/>\n<text text-anchor=\"middle\" x=\"11.5\" y=\"-70.8\" font-family=\"Times,serif\" font-size=\"14.00\">b</text>\n<polyline fill=\"none\" stroke=\"black\" points=\"23,-56.5 23,-92.5 \"/>\n<text text-anchor=\"middle\" x=\"63\" y=\"-70.8\" font-family=\"Times,serif\" font-size=\"14.00\">data 5.0000</text>\n<polyline fill=\"none\" stroke=\"black\" points=\"103,-56.5 103,-92.5 \"/>\n<text text-anchor=\"middle\" x=\"149.5\" y=\"-70.8\" font-family=\"Times,serif\" font-size=\"14.00\">grad &#45;10.0000</text>\n</g>\n<!-- 138023557649152* -->\n<g id=\"node9\" class=\"node\">\n<title>138023557649152*</title>\n<ellipse fill=\"none\" stroke=\"black\" cx=\"259\" cy=\"-46.5\" rx=\"27\" ry=\"18\"/>\n<text text-anchor=\"middle\" x=\"259\" y=\"-42.8\" font-family=\"Times,serif\" font-size=\"14.00\">*</text>\n</g>\n<!-- 138023557659232&#45;&gt;138023557649152* -->\n<g id=\"edge8\" class=\"edge\">\n<title>138023557659232&#45;&gt;138023557649152*</title>\n<path fill=\"none\" stroke=\"black\" d=\"M196.07,-57.41C205.42,-55.76 214.43,-54.17 222.55,-52.74\"/>\n<polygon fill=\"black\" stroke=\"black\" points=\"223.41,-56.15 232.65,-50.96 222.2,-49.25 223.41,-56.15\"/>\n</g>\n<!-- 138023557655200 -->\n<g id=\"node5\" class=\"node\">\n<title>138023557655200</title>\n<polygon fill=\"none\" stroke=\"black\" points=\"3.5,-1.5 3.5,-37.5 192.5,-37.5 192.5,-1.5 3.5,-1.5\"/>\n<text text-anchor=\"middle\" x=\"15\" y=\"-15.8\" font-family=\"Times,serif\" font-size=\"14.00\">a</text>\n<polyline fill=\"none\" stroke=\"black\" points=\"26.5,-1.5 26.5,-37.5 \"/>\n<text text-anchor=\"middle\" x=\"66.5\" y=\"-15.8\" font-family=\"Times,serif\" font-size=\"14.00\">data 3.0000</text>\n<polyline fill=\"none\" stroke=\"black\" points=\"106.5,-1.5 106.5,-37.5 \"/>\n<text text-anchor=\"middle\" x=\"149.5\" y=\"-15.8\" font-family=\"Times,serif\" font-size=\"14.00\">grad &#45;6.0000</text>\n</g>\n<!-- 138023557655200&#45;&gt;138023557649152* -->\n<g id=\"edge6\" class=\"edge\">\n<title>138023557655200&#45;&gt;138023557649152*</title>\n<path fill=\"none\" stroke=\"black\" d=\"M192.87,-35.44C203.4,-37.23 213.59,-38.96 222.66,-40.5\"/>\n<polygon fill=\"black\" stroke=\"black\" points=\"222.29,-43.99 232.74,-42.21 223.46,-37.09 222.29,-43.99\"/>\n</g>\n<!-- 138023557645024 -->\n<g id=\"node6\" class=\"node\">\n<title>138023557645024</title>\n<polygon fill=\"none\" stroke=\"black\" points=\"966,-27.5 966,-63.5 1165,-63.5 1165,-27.5 966,-27.5\"/>\n<text text-anchor=\"middle\" x=\"978.5\" y=\"-41.8\" font-family=\"Times,serif\" font-size=\"14.00\">L</text>\n<polyline fill=\"none\" stroke=\"black\" points=\"991,-27.5 991,-63.5 \"/>\n<text text-anchor=\"middle\" x=\"1037\" y=\"-41.8\" font-family=\"Times,serif\" font-size=\"14.00\">data &#45;46.0000</text>\n<polyline fill=\"none\" stroke=\"black\" points=\"1083,-27.5 1083,-63.5 \"/>\n<text text-anchor=\"middle\" x=\"1124\" y=\"-41.8\" font-family=\"Times,serif\" font-size=\"14.00\">grad 1.0000</text>\n</g>\n<!-- 138023557645024*&#45;&gt;138023557645024 -->\n<g id=\"edge2\" class=\"edge\">\n<title>138023557645024*&#45;&gt;138023557645024</title>\n<path fill=\"none\" stroke=\"black\" d=\"M930.14,-45.5C937.65,-45.5 946.33,-45.5 955.6,-45.5\"/>\n<polygon fill=\"black\" stroke=\"black\" points=\"955.86,-49 965.86,-45.5 955.86,-42 955.86,-49\"/>\n</g>\n<!-- 138023557649152 -->\n<g id=\"node8\" class=\"node\">\n<title>138023557649152</title>\n<polygon fill=\"none\" stroke=\"black\" points=\"322,-28.5 322,-64.5 518,-64.5 518,-28.5 322,-28.5\"/>\n<text text-anchor=\"middle\" x=\"333.5\" y=\"-42.8\" font-family=\"Times,serif\" font-size=\"14.00\">e</text>\n<polyline fill=\"none\" stroke=\"black\" points=\"345,-28.5 345,-64.5 \"/>\n<text text-anchor=\"middle\" x=\"388.5\" y=\"-42.8\" font-family=\"Times,serif\" font-size=\"14.00\">data 15.0000</text>\n<polyline fill=\"none\" stroke=\"black\" points=\"432,-28.5 432,-64.5 \"/>\n<text text-anchor=\"middle\" x=\"475\" y=\"-42.8\" font-family=\"Times,serif\" font-size=\"14.00\">grad &#45;2.0000</text>\n</g>\n<!-- 138023557649152&#45;&gt;138023557646944+ -->\n<g id=\"edge7\" class=\"edge\">\n<title>138023557649152&#45;&gt;138023557646944+</title>\n<path fill=\"none\" stroke=\"black\" d=\"M518.07,-62.98C527.42,-64.57 536.43,-66.1 544.55,-67.48\"/>\n<polygon fill=\"black\" stroke=\"black\" points=\"544.21,-70.97 554.65,-69.2 545.38,-64.07 544.21,-70.97\"/>\n</g>\n<!-- 138023557649152*&#45;&gt;138023557649152 -->\n<g id=\"edge3\" class=\"edge\">\n<title>138023557649152*&#45;&gt;138023557649152</title>\n<path fill=\"none\" stroke=\"black\" d=\"M286.26,-46.5C293.77,-46.5 302.46,-46.5 311.72,-46.5\"/>\n<polygon fill=\"black\" stroke=\"black\" points=\"311.97,-50 321.97,-46.5 311.97,-43 311.97,-50\"/>\n</g>\n<!-- 138023557647808 -->\n<g id=\"node10\" class=\"node\">\n<title>138023557647808</title>\n<polygon fill=\"none\" stroke=\"black\" points=\"644.5,-0.5 644.5,-36.5 839.5,-36.5 839.5,-0.5 644.5,-0.5\"/>\n<text text-anchor=\"middle\" x=\"655\" y=\"-14.8\" font-family=\"Times,serif\" font-size=\"14.00\">f</text>\n<polyline fill=\"none\" stroke=\"black\" points=\"665.5,-0.5 665.5,-36.5 \"/>\n<text text-anchor=\"middle\" x=\"708\" y=\"-14.8\" font-family=\"Times,serif\" font-size=\"14.00\">data &#45;2.0000</text>\n<polyline fill=\"none\" stroke=\"black\" points=\"750.5,-0.5 750.5,-36.5 \"/>\n<text text-anchor=\"middle\" x=\"795\" y=\"-14.8\" font-family=\"Times,serif\" font-size=\"14.00\">grad 23.0000</text>\n</g>\n<!-- 138023557647808&#45;&gt;138023557645024* -->\n<g id=\"edge9\" class=\"edge\">\n<title>138023557647808&#45;&gt;138023557645024*</title>\n<path fill=\"none\" stroke=\"black\" d=\"M839.62,-34.91C849.22,-36.54 858.47,-38.11 866.77,-39.52\"/>\n<polygon fill=\"black\" stroke=\"black\" points=\"866.3,-42.99 876.74,-41.21 867.47,-36.09 866.3,-42.99\"/>\n</g>\n</g>\n</svg>\n",
            "text/plain": [
              "<graphviz.graphs.Digraph at 0x7d87eacb1c30>"
            ]
          },
          "metadata": {},
          "execution_count": 17
        }
      ]
    },
    {
      "cell_type": "markdown",
      "source": [
        "### Demonstration of simple optimization fo the NN\n",
        "\n",
        "#### To adjust the value of L (Loss function)\n",
        "\n",
        "We have the control over all the leaf nodes,\n",
        "\n",
        "which are a, b, c and f\n",
        "\n",
        "by simply updating the value of of these nodes by a small step\n",
        "\n",
        "using gradient we know how much the value will affect our final outcome/Loss function\n",
        "\n",
        "so by simply multiplying a small value (0.01) with the node's gradient, it is definitely going to impact the loss function, the way we intent to.\n",
        "either reduce or increase (numerically for this case)"
      ],
      "metadata": {
        "id": "eqwibVvKKTKK"
      }
    },
    {
      "cell_type": "code",
      "source": [
        "\n",
        "## Optimizing Loss function value\n",
        "\n",
        "a.data += 0.01 * a.grad\n",
        "b.data += 0.01 * b.grad\n",
        "c.data += 0.01 * c.grad\n",
        "f.data += 0.01 * f.grad\n",
        "\n",
        "e = a*b\n",
        "d = a+c\n",
        "L = d*f\n",
        "print(L.data)"
      ],
      "metadata": {
        "colab": {
          "base_uri": "https://localhost:8080/"
        },
        "id": "k4A6kgKFKCGI",
        "outputId": "eaf3b249-4cca-45ce-a4ff-4297ff592f48"
      },
      "execution_count": 19,
      "outputs": [
        {
          "output_type": "stream",
          "name": "stdout",
          "text": [
            "-19.009800000000002\n"
          ]
        }
      ]
    }
  ]
}